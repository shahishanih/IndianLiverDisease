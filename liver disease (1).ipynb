{
 "cells": [
  {
   "cell_type": "markdown",
   "metadata": {},
   "source": [
    "\n",
    "# Importing the Packages"
   ]
  },
  {
   "cell_type": "code",
   "execution_count": 3,
   "metadata": {},
   "outputs": [],
   "source": [
    "import pandas as pd\n",
    "import numpy as np\n",
    "import warnings \n",
    "warnings.filterwarnings(\"ignore\")\n",
    "pd.set_option(\"display.max_columns\",None)"
   ]
  },
  {
   "cell_type": "code",
   "execution_count": 4,
   "metadata": {},
   "outputs": [],
   "source": [
    "# importing the data wherev header is not given and it is space sperated text and 1st column is index.\n",
    "df=pd.read_csv(r\"C:\\Users\\DELL\\Downloads\\IndianLiverPatientData.txt\", header=None, delimiter= ' *\\t *',index_col=0)"
   ]
  },
  {
   "cell_type": "code",
   "execution_count": 5,
   "metadata": {},
   "outputs": [
    {
     "data": {
      "text/html": [
       "<div>\n",
       "<style scoped>\n",
       "    .dataframe tbody tr th:only-of-type {\n",
       "        vertical-align: middle;\n",
       "    }\n",
       "\n",
       "    .dataframe tbody tr th {\n",
       "        vertical-align: top;\n",
       "    }\n",
       "\n",
       "    .dataframe thead th {\n",
       "        text-align: right;\n",
       "    }\n",
       "</style>\n",
       "<table border=\"1\" class=\"dataframe\">\n",
       "  <thead>\n",
       "    <tr style=\"text-align: right;\">\n",
       "      <th></th>\n",
       "      <th>1</th>\n",
       "      <th>2</th>\n",
       "      <th>3</th>\n",
       "      <th>4</th>\n",
       "      <th>5</th>\n",
       "      <th>6</th>\n",
       "      <th>7</th>\n",
       "      <th>8</th>\n",
       "      <th>9</th>\n",
       "      <th>10</th>\n",
       "      <th>11</th>\n",
       "    </tr>\n",
       "    <tr>\n",
       "      <th>0</th>\n",
       "      <th></th>\n",
       "      <th></th>\n",
       "      <th></th>\n",
       "      <th></th>\n",
       "      <th></th>\n",
       "      <th></th>\n",
       "      <th></th>\n",
       "      <th></th>\n",
       "      <th></th>\n",
       "      <th></th>\n",
       "      <th></th>\n",
       "    </tr>\n",
       "  </thead>\n",
       "  <tbody>\n",
       "    <tr>\n",
       "      <td>1</td>\n",
       "      <td>65</td>\n",
       "      <td>Female</td>\n",
       "      <td>0.7</td>\n",
       "      <td>0.1</td>\n",
       "      <td>187</td>\n",
       "      <td>16</td>\n",
       "      <td>18</td>\n",
       "      <td>6.8</td>\n",
       "      <td>3.3</td>\n",
       "      <td>0.90</td>\n",
       "      <td>No</td>\n",
       "    </tr>\n",
       "    <tr>\n",
       "      <td>2</td>\n",
       "      <td>62</td>\n",
       "      <td>Male</td>\n",
       "      <td>10.9</td>\n",
       "      <td>5.5</td>\n",
       "      <td>699</td>\n",
       "      <td>64</td>\n",
       "      <td>100</td>\n",
       "      <td>7.5</td>\n",
       "      <td>3.2</td>\n",
       "      <td>0.74</td>\n",
       "      <td>No</td>\n",
       "    </tr>\n",
       "    <tr>\n",
       "      <td>3</td>\n",
       "      <td>62</td>\n",
       "      <td>Male</td>\n",
       "      <td>7.3</td>\n",
       "      <td>4.1</td>\n",
       "      <td>490</td>\n",
       "      <td>60</td>\n",
       "      <td>68</td>\n",
       "      <td>7.0</td>\n",
       "      <td>3.3</td>\n",
       "      <td>0.89</td>\n",
       "      <td>No</td>\n",
       "    </tr>\n",
       "    <tr>\n",
       "      <td>4</td>\n",
       "      <td>58</td>\n",
       "      <td>Male</td>\n",
       "      <td>1.0</td>\n",
       "      <td>0.4</td>\n",
       "      <td>182</td>\n",
       "      <td>14</td>\n",
       "      <td>20</td>\n",
       "      <td>6.8</td>\n",
       "      <td>3.4</td>\n",
       "      <td>1.00</td>\n",
       "      <td>No</td>\n",
       "    </tr>\n",
       "    <tr>\n",
       "      <td>5</td>\n",
       "      <td>72</td>\n",
       "      <td>Male</td>\n",
       "      <td>3.9</td>\n",
       "      <td>2.0</td>\n",
       "      <td>195</td>\n",
       "      <td>27</td>\n",
       "      <td>59</td>\n",
       "      <td>7.3</td>\n",
       "      <td>2.4</td>\n",
       "      <td>0.40</td>\n",
       "      <td>No</td>\n",
       "    </tr>\n",
       "    <tr>\n",
       "      <td>...</td>\n",
       "      <td>...</td>\n",
       "      <td>...</td>\n",
       "      <td>...</td>\n",
       "      <td>...</td>\n",
       "      <td>...</td>\n",
       "      <td>...</td>\n",
       "      <td>...</td>\n",
       "      <td>...</td>\n",
       "      <td>...</td>\n",
       "      <td>...</td>\n",
       "      <td>...</td>\n",
       "    </tr>\n",
       "    <tr>\n",
       "      <td>579</td>\n",
       "      <td>60</td>\n",
       "      <td>Male</td>\n",
       "      <td>0.5</td>\n",
       "      <td>0.1</td>\n",
       "      <td>500</td>\n",
       "      <td>20</td>\n",
       "      <td>34</td>\n",
       "      <td>5.9</td>\n",
       "      <td>1.6</td>\n",
       "      <td>0.37</td>\n",
       "      <td>Yes</td>\n",
       "    </tr>\n",
       "    <tr>\n",
       "      <td>580</td>\n",
       "      <td>40</td>\n",
       "      <td>Male</td>\n",
       "      <td>0.6</td>\n",
       "      <td>0.1</td>\n",
       "      <td>98</td>\n",
       "      <td>35</td>\n",
       "      <td>31</td>\n",
       "      <td>6.0</td>\n",
       "      <td>3.2</td>\n",
       "      <td>1.10</td>\n",
       "      <td>No</td>\n",
       "    </tr>\n",
       "    <tr>\n",
       "      <td>581</td>\n",
       "      <td>52</td>\n",
       "      <td>Male</td>\n",
       "      <td>0.8</td>\n",
       "      <td>0.2</td>\n",
       "      <td>245</td>\n",
       "      <td>48</td>\n",
       "      <td>49</td>\n",
       "      <td>6.4</td>\n",
       "      <td>3.2</td>\n",
       "      <td>1.00</td>\n",
       "      <td>No</td>\n",
       "    </tr>\n",
       "    <tr>\n",
       "      <td>582</td>\n",
       "      <td>31</td>\n",
       "      <td>Male</td>\n",
       "      <td>1.3</td>\n",
       "      <td>0.5</td>\n",
       "      <td>184</td>\n",
       "      <td>29</td>\n",
       "      <td>32</td>\n",
       "      <td>6.8</td>\n",
       "      <td>3.4</td>\n",
       "      <td>1.00</td>\n",
       "      <td>No</td>\n",
       "    </tr>\n",
       "    <tr>\n",
       "      <td>583</td>\n",
       "      <td>38</td>\n",
       "      <td>Male</td>\n",
       "      <td>1.0</td>\n",
       "      <td>0.3</td>\n",
       "      <td>216</td>\n",
       "      <td>21</td>\n",
       "      <td>24</td>\n",
       "      <td>7.3</td>\n",
       "      <td>4.4</td>\n",
       "      <td>1.50</td>\n",
       "      <td>Yes</td>\n",
       "    </tr>\n",
       "  </tbody>\n",
       "</table>\n",
       "<p>583 rows × 11 columns</p>\n",
       "</div>"
      ],
      "text/plain": [
       "     1       2     3    4    5   6    7    8    9     10   11\n",
       "0                                                            \n",
       "1    65  Female   0.7  0.1  187  16   18  6.8  3.3  0.90   No\n",
       "2    62    Male  10.9  5.5  699  64  100  7.5  3.2  0.74   No\n",
       "3    62    Male   7.3  4.1  490  60   68  7.0  3.3  0.89   No\n",
       "4    58    Male   1.0  0.4  182  14   20  6.8  3.4  1.00   No\n",
       "5    72    Male   3.9  2.0  195  27   59  7.3  2.4  0.40   No\n",
       "..   ..     ...   ...  ...  ...  ..  ...  ...  ...   ...  ...\n",
       "579  60    Male   0.5  0.1  500  20   34  5.9  1.6  0.37  Yes\n",
       "580  40    Male   0.6  0.1   98  35   31  6.0  3.2  1.10   No\n",
       "581  52    Male   0.8  0.2  245  48   49  6.4  3.2  1.00   No\n",
       "582  31    Male   1.3  0.5  184  29   32  6.8  3.4  1.00   No\n",
       "583  38    Male   1.0  0.3  216  21   24  7.3  4.4  1.50  Yes\n",
       "\n",
       "[583 rows x 11 columns]"
      ]
     },
     "execution_count": 5,
     "metadata": {},
     "output_type": "execute_result"
    }
   ],
   "source": [
    "df"
   ]
  },
  {
   "cell_type": "code",
   "execution_count": 6,
   "metadata": {},
   "outputs": [
    {
     "data": {
      "text/plain": [
       "(583, 11)"
      ]
     },
     "execution_count": 6,
     "metadata": {},
     "output_type": "execute_result"
    }
   ],
   "source": [
    "#cheching for the shape of the data frame\n",
    "df.shape"
   ]
  },
  {
   "cell_type": "code",
   "execution_count": 7,
   "metadata": {},
   "outputs": [],
   "source": [
    "#Giving the dataframe the column names\n",
    "df.columns=['Age','Gender','Total_Bilirubin','Direct_Bilirubin','Alkaline_Phosphotase',\n",
    "'Alamine_Aminotransferase','Aspartate_Aminotransferase','Total_Protiens','Albumin',\n",
    "'Albumin_and_Globulin_Ratio','Class']"
   ]
  },
  {
   "cell_type": "code",
   "execution_count": 8,
   "metadata": {},
   "outputs": [
    {
     "data": {
      "text/html": [
       "<div>\n",
       "<style scoped>\n",
       "    .dataframe tbody tr th:only-of-type {\n",
       "        vertical-align: middle;\n",
       "    }\n",
       "\n",
       "    .dataframe tbody tr th {\n",
       "        vertical-align: top;\n",
       "    }\n",
       "\n",
       "    .dataframe thead th {\n",
       "        text-align: right;\n",
       "    }\n",
       "</style>\n",
       "<table border=\"1\" class=\"dataframe\">\n",
       "  <thead>\n",
       "    <tr style=\"text-align: right;\">\n",
       "      <th></th>\n",
       "      <th>Age</th>\n",
       "      <th>Gender</th>\n",
       "      <th>Total_Bilirubin</th>\n",
       "      <th>Direct_Bilirubin</th>\n",
       "      <th>Alkaline_Phosphotase</th>\n",
       "      <th>Alamine_Aminotransferase</th>\n",
       "      <th>Aspartate_Aminotransferase</th>\n",
       "      <th>Total_Protiens</th>\n",
       "      <th>Albumin</th>\n",
       "      <th>Albumin_and_Globulin_Ratio</th>\n",
       "      <th>Class</th>\n",
       "    </tr>\n",
       "    <tr>\n",
       "      <th>0</th>\n",
       "      <th></th>\n",
       "      <th></th>\n",
       "      <th></th>\n",
       "      <th></th>\n",
       "      <th></th>\n",
       "      <th></th>\n",
       "      <th></th>\n",
       "      <th></th>\n",
       "      <th></th>\n",
       "      <th></th>\n",
       "      <th></th>\n",
       "    </tr>\n",
       "  </thead>\n",
       "  <tbody>\n",
       "    <tr>\n",
       "      <td>1</td>\n",
       "      <td>65</td>\n",
       "      <td>Female</td>\n",
       "      <td>0.7</td>\n",
       "      <td>0.1</td>\n",
       "      <td>187</td>\n",
       "      <td>16</td>\n",
       "      <td>18</td>\n",
       "      <td>6.8</td>\n",
       "      <td>3.3</td>\n",
       "      <td>0.90</td>\n",
       "      <td>No</td>\n",
       "    </tr>\n",
       "    <tr>\n",
       "      <td>2</td>\n",
       "      <td>62</td>\n",
       "      <td>Male</td>\n",
       "      <td>10.9</td>\n",
       "      <td>5.5</td>\n",
       "      <td>699</td>\n",
       "      <td>64</td>\n",
       "      <td>100</td>\n",
       "      <td>7.5</td>\n",
       "      <td>3.2</td>\n",
       "      <td>0.74</td>\n",
       "      <td>No</td>\n",
       "    </tr>\n",
       "    <tr>\n",
       "      <td>3</td>\n",
       "      <td>62</td>\n",
       "      <td>Male</td>\n",
       "      <td>7.3</td>\n",
       "      <td>4.1</td>\n",
       "      <td>490</td>\n",
       "      <td>60</td>\n",
       "      <td>68</td>\n",
       "      <td>7.0</td>\n",
       "      <td>3.3</td>\n",
       "      <td>0.89</td>\n",
       "      <td>No</td>\n",
       "    </tr>\n",
       "    <tr>\n",
       "      <td>4</td>\n",
       "      <td>58</td>\n",
       "      <td>Male</td>\n",
       "      <td>1.0</td>\n",
       "      <td>0.4</td>\n",
       "      <td>182</td>\n",
       "      <td>14</td>\n",
       "      <td>20</td>\n",
       "      <td>6.8</td>\n",
       "      <td>3.4</td>\n",
       "      <td>1.00</td>\n",
       "      <td>No</td>\n",
       "    </tr>\n",
       "    <tr>\n",
       "      <td>5</td>\n",
       "      <td>72</td>\n",
       "      <td>Male</td>\n",
       "      <td>3.9</td>\n",
       "      <td>2.0</td>\n",
       "      <td>195</td>\n",
       "      <td>27</td>\n",
       "      <td>59</td>\n",
       "      <td>7.3</td>\n",
       "      <td>2.4</td>\n",
       "      <td>0.40</td>\n",
       "      <td>No</td>\n",
       "    </tr>\n",
       "  </tbody>\n",
       "</table>\n",
       "</div>"
      ],
      "text/plain": [
       "   Age  Gender  Total_Bilirubin  Direct_Bilirubin  Alkaline_Phosphotase  \\\n",
       "0                                                                         \n",
       "1   65  Female              0.7               0.1                   187   \n",
       "2   62    Male             10.9               5.5                   699   \n",
       "3   62    Male              7.3               4.1                   490   \n",
       "4   58    Male              1.0               0.4                   182   \n",
       "5   72    Male              3.9               2.0                   195   \n",
       "\n",
       "   Alamine_Aminotransferase  Aspartate_Aminotransferase  Total_Protiens  \\\n",
       "0                                                                         \n",
       "1                        16                          18             6.8   \n",
       "2                        64                         100             7.5   \n",
       "3                        60                          68             7.0   \n",
       "4                        14                          20             6.8   \n",
       "5                        27                          59             7.3   \n",
       "\n",
       "   Albumin  Albumin_and_Globulin_Ratio Class  \n",
       "0                                             \n",
       "1      3.3                        0.90    No  \n",
       "2      3.2                        0.74    No  \n",
       "3      3.3                        0.89    No  \n",
       "4      3.4                        1.00    No  \n",
       "5      2.4                        0.40    No  "
      ]
     },
     "execution_count": 8,
     "metadata": {},
     "output_type": "execute_result"
    }
   ],
   "source": [
    "df.head()"
   ]
  },
  {
   "cell_type": "markdown",
   "metadata": {},
   "source": [
    "# Checking for the outlier"
   ]
  },
  {
   "cell_type": "code",
   "execution_count": 9,
   "metadata": {},
   "outputs": [
    {
     "data": {
      "text/plain": [
       "<Figure size 640x480 with 1 Axes>"
      ]
     },
     "metadata": {},
     "output_type": "display_data"
    }
   ],
   "source": [
    "import matplotlib.pyplot as plt\n",
    "df.boxplot()\n",
    "plt.show()\n"
   ]
  },
  {
   "cell_type": "markdown",
   "metadata": {},
   "source": [
    "# Checking Outlier for Individual Variable"
   ]
  },
  {
   "cell_type": "code",
   "execution_count": 10,
   "metadata": {},
   "outputs": [
    {
     "data": {
      "text/plain": [
       "<matplotlib.axes._subplots.AxesSubplot at 0x2cc91ca0f08>"
      ]
     },
     "execution_count": 10,
     "metadata": {},
     "output_type": "execute_result"
    },
    {
     "data": {
      "image/png": "[encoded data removed]",
      "text/plain": [
       "<Figure size 432x288 with 1 Axes>"
      ]
     },
     "metadata": {
      "needs_background": "light"
     },
     "output_type": "display_data"
    }
   ],
   "source": [
    "df.boxplot(column=\"Direct_Bilirubin\")"
   ]
  },
  {
   "cell_type": "code",
   "execution_count": 11,
   "metadata": {},
   "outputs": [
    {
     "data": {
      "text/plain": [
       "<matplotlib.axes._subplots.AxesSubplot at 0x2cc91d5b848>"
      ]
     },
     "execution_count": 11,
     "metadata": {},
     "output_type": "execute_result"
    },
    {
     "data": {
      "image/png": "[encoded data removed]",
      "text/plain": [
       "<Figure size 432x288 with 1 Axes>"
      ]
     },
     "metadata": {
      "needs_background": "light"
     },
     "output_type": "display_data"
    }
   ],
   "source": [
    "df.boxplot(column=\"Total_Bilirubin\")"
   ]
  },
  {
   "cell_type": "code",
   "execution_count": 12,
   "metadata": {},
   "outputs": [
    {
     "data": {
      "text/plain": [
       "<matplotlib.axes._subplots.AxesSubplot at 0x2cc91dd9f88>"
      ]
     },
     "execution_count": 12,
     "metadata": {},
     "output_type": "execute_result"
    },
    {
     "data": {
      "image/png": "[encoded data removed]",
      "text/plain": [
       "<Figure size 432x288 with 1 Axes>"
      ]
     },
     "metadata": {
      "needs_background": "light"
     },
     "output_type": "display_data"
    }
   ],
   "source": [
    "df.boxplot(column=\"Alkaline_Phosphotase\")"
   ]
  },
  {
   "cell_type": "code",
   "execution_count": 13,
   "metadata": {},
   "outputs": [
    {
     "data": {
      "text/plain": [
       "<matplotlib.axes._subplots.AxesSubplot at 0x2cc91b91288>"
      ]
     },
     "execution_count": 13,
     "metadata": {},
     "output_type": "execute_result"
    },
    {
     "data": {
      "image/png": "[encoded data removed]",
      "text/plain": [
       "<Figure size 432x288 with 1 Axes>"
      ]
     },
     "metadata": {
      "needs_background": "light"
     },
     "output_type": "display_data"
    }
   ],
   "source": [
    "df.boxplot(column=\"Alamine_Aminotransferase\")"
   ]
  },
  {
   "cell_type": "code",
   "execution_count": 14,
   "metadata": {},
   "outputs": [
    {
     "data": {
      "text/plain": [
       "<matplotlib.axes._subplots.AxesSubplot at 0x2cc91c91dc8>"
      ]
     },
     "execution_count": 14,
     "metadata": {},
     "output_type": "execute_result"
    },
    {
     "data": {
      "image/png": "[encoded data removed]",
      "text/plain": [
       "<Figure size 432x288 with 1 Axes>"
      ]
     },
     "metadata": {
      "needs_background": "light"
     },
     "output_type": "display_data"
    }
   ],
   "source": [
    "df.boxplot(column=\"Total_Protiens\")"
   ]
  },
  {
   "cell_type": "code",
   "execution_count": 15,
   "metadata": {},
   "outputs": [
    {
     "data": {
      "text/plain": [
       "<matplotlib.axes._subplots.AxesSubplot at 0x2cc91e3ba48>"
      ]
     },
     "execution_count": 15,
     "metadata": {},
     "output_type": "execute_result"
    },
    {
     "data": {
      "image/png": "[encoded data removed]",
      "text/plain": [
       "<Figure size 432x288 with 1 Axes>"
      ]
     },
     "metadata": {
      "needs_background": "light"
     },
     "output_type": "display_data"
    }
   ],
   "source": [
    "\n",
    "df.boxplot(column=\"Albumin\")"
   ]
  },
  {
   "cell_type": "code",
   "execution_count": 16,
   "metadata": {},
   "outputs": [
    {
     "data": {
      "text/plain": [
       "<matplotlib.axes._subplots.AxesSubplot at 0x2cc91eac0c8>"
      ]
     },
     "execution_count": 16,
     "metadata": {},
     "output_type": "execute_result"
    },
    {
     "data": {
      "image/png": "[encoded data removed]",
      "text/plain": [
       "<Figure size 432x288 with 1 Axes>"
      ]
     },
     "metadata": {
      "needs_background": "light"
     },
     "output_type": "display_data"
    }
   ],
   "source": [
    "df.boxplot(column=\"Albumin_and_Globulin_Ratio\")"
   ]
  },
  {
   "cell_type": "markdown",
   "metadata": {},
   "source": [
    "# Checking for the missing values."
   ]
  },
  {
   "cell_type": "code",
   "execution_count": 17,
   "metadata": {},
   "outputs": [
    {
     "data": {
      "text/plain": [
       "Age                            0\n",
       "Gender                        20\n",
       "Total_Bilirubin                0\n",
       "Direct_Bilirubin               0\n",
       "Alkaline_Phosphotase           0\n",
       "Alamine_Aminotransferase       0\n",
       "Aspartate_Aminotransferase     0\n",
       "Total_Protiens                15\n",
       "Albumin                        0\n",
       "Albumin_and_Globulin_Ratio     4\n",
       "Class                          0\n",
       "dtype: int64"
      ]
     },
     "execution_count": 17,
     "metadata": {},
     "output_type": "execute_result"
    }
   ],
   "source": [
    "df.isnull().sum()"
   ]
  },
  {
   "cell_type": "code",
   "execution_count": 22,
   "metadata": {},
   "outputs": [],
   "source": [
    "df[\"Gender\"].fillna(df[\"Gender\"].mode()[0],inplace=True)"
   ]
  },
  {
   "cell_type": "code",
   "execution_count": 23,
   "metadata": {},
   "outputs": [],
   "source": [
    "for value in [\"Albumin_and_Globulin_Ratio\",\"Total_Protiens\"]:\n",
    "    df[value].fillna(df[value].mode()[0],inplace=True)"
   ]
  },
  {
   "cell_type": "code",
   "execution_count": 24,
   "metadata": {},
   "outputs": [
    {
     "data": {
      "text/plain": [
       "Age                           0\n",
       "Gender                        0\n",
       "Total_Bilirubin               0\n",
       "Direct_Bilirubin              0\n",
       "Alkaline_Phosphotase          0\n",
       "Alamine_Aminotransferase      0\n",
       "Aspartate_Aminotransferase    0\n",
       "Total_Protiens                0\n",
       "Albumin                       0\n",
       "Albumin_and_Globulin_Ratio    0\n",
       "Class                         0\n",
       "dtype: int64"
      ]
     },
     "execution_count": 24,
     "metadata": {},
     "output_type": "execute_result"
    }
   ],
   "source": [
    "df.isnull().sum()"
   ]
  },
  {
   "cell_type": "code",
   "execution_count": 219,
   "metadata": {},
   "outputs": [
    {
     "data": {
      "text/plain": [
       "['Gender', 'Class']"
      ]
     },
     "execution_count": 219,
     "metadata": {},
     "output_type": "execute_result"
    }
   ],
   "source": [
    "#created an array which stoes the variable which has the data type as object\n",
    "colname=[]\n",
    "for x in df.columns:\n",
    "    if df[x].dtype==\"object\":\n",
    "        colname.append(x)\n",
    "colname"
   ]
  },
  {
   "cell_type": "code",
   "execution_count": 220,
   "metadata": {},
   "outputs": [],
   "source": [
    "# Label encoder is used to convert the Categorical data into numerical data\n",
    "from sklearn import preprocessing \n",
    "le=preprocessing.LabelEncoder()\n",
    "for x in colname:\n",
    "    df[x]=le.fit_transform(df[x])"
   ]
  },
  {
   "cell_type": "code",
   "execution_count": 221,
   "metadata": {},
   "outputs": [
    {
     "data": {
      "text/html": [
       "<div>\n",
       "<style scoped>\n",
       "    .dataframe tbody tr th:only-of-type {\n",
       "        vertical-align: middle;\n",
       "    }\n",
       "\n",
       "    .dataframe tbody tr th {\n",
       "        vertical-align: top;\n",
       "    }\n",
       "\n",
       "    .dataframe thead th {\n",
       "        text-align: right;\n",
       "    }\n",
       "</style>\n",
       "<table border=\"1\" class=\"dataframe\">\n",
       "  <thead>\n",
       "    <tr style=\"text-align: right;\">\n",
       "      <th></th>\n",
       "      <th>Age</th>\n",
       "      <th>Gender</th>\n",
       "      <th>Total_Bilirubin</th>\n",
       "      <th>Direct_Bilirubin</th>\n",
       "      <th>Alkaline_Phosphotase</th>\n",
       "      <th>Alamine_Aminotransferase</th>\n",
       "      <th>Aspartate_Aminotransferase</th>\n",
       "      <th>Total_Protiens</th>\n",
       "      <th>Albumin</th>\n",
       "      <th>Albumin_and_Globulin_Ratio</th>\n",
       "      <th>Class</th>\n",
       "    </tr>\n",
       "    <tr>\n",
       "      <th>0</th>\n",
       "      <th></th>\n",
       "      <th></th>\n",
       "      <th></th>\n",
       "      <th></th>\n",
       "      <th></th>\n",
       "      <th></th>\n",
       "      <th></th>\n",
       "      <th></th>\n",
       "      <th></th>\n",
       "      <th></th>\n",
       "      <th></th>\n",
       "    </tr>\n",
       "  </thead>\n",
       "  <tbody>\n",
       "    <tr>\n",
       "      <td>1</td>\n",
       "      <td>65</td>\n",
       "      <td>0</td>\n",
       "      <td>0.7</td>\n",
       "      <td>0.1</td>\n",
       "      <td>187</td>\n",
       "      <td>16</td>\n",
       "      <td>18</td>\n",
       "      <td>6.8</td>\n",
       "      <td>3.3</td>\n",
       "      <td>0.90</td>\n",
       "      <td>0</td>\n",
       "    </tr>\n",
       "    <tr>\n",
       "      <td>2</td>\n",
       "      <td>62</td>\n",
       "      <td>1</td>\n",
       "      <td>10.9</td>\n",
       "      <td>5.5</td>\n",
       "      <td>699</td>\n",
       "      <td>64</td>\n",
       "      <td>100</td>\n",
       "      <td>7.5</td>\n",
       "      <td>3.2</td>\n",
       "      <td>0.74</td>\n",
       "      <td>0</td>\n",
       "    </tr>\n",
       "    <tr>\n",
       "      <td>3</td>\n",
       "      <td>62</td>\n",
       "      <td>1</td>\n",
       "      <td>7.3</td>\n",
       "      <td>4.1</td>\n",
       "      <td>490</td>\n",
       "      <td>60</td>\n",
       "      <td>68</td>\n",
       "      <td>7.0</td>\n",
       "      <td>3.3</td>\n",
       "      <td>0.89</td>\n",
       "      <td>0</td>\n",
       "    </tr>\n",
       "    <tr>\n",
       "      <td>4</td>\n",
       "      <td>58</td>\n",
       "      <td>1</td>\n",
       "      <td>1.0</td>\n",
       "      <td>0.4</td>\n",
       "      <td>182</td>\n",
       "      <td>14</td>\n",
       "      <td>20</td>\n",
       "      <td>6.8</td>\n",
       "      <td>3.4</td>\n",
       "      <td>1.00</td>\n",
       "      <td>0</td>\n",
       "    </tr>\n",
       "    <tr>\n",
       "      <td>5</td>\n",
       "      <td>72</td>\n",
       "      <td>1</td>\n",
       "      <td>3.9</td>\n",
       "      <td>2.0</td>\n",
       "      <td>195</td>\n",
       "      <td>27</td>\n",
       "      <td>59</td>\n",
       "      <td>7.3</td>\n",
       "      <td>2.4</td>\n",
       "      <td>0.40</td>\n",
       "      <td>0</td>\n",
       "    </tr>\n",
       "    <tr>\n",
       "      <td>6</td>\n",
       "      <td>46</td>\n",
       "      <td>1</td>\n",
       "      <td>1.8</td>\n",
       "      <td>0.7</td>\n",
       "      <td>208</td>\n",
       "      <td>19</td>\n",
       "      <td>14</td>\n",
       "      <td>7.6</td>\n",
       "      <td>4.4</td>\n",
       "      <td>1.30</td>\n",
       "      <td>0</td>\n",
       "    </tr>\n",
       "    <tr>\n",
       "      <td>7</td>\n",
       "      <td>26</td>\n",
       "      <td>0</td>\n",
       "      <td>0.9</td>\n",
       "      <td>0.2</td>\n",
       "      <td>154</td>\n",
       "      <td>16</td>\n",
       "      <td>12</td>\n",
       "      <td>7.0</td>\n",
       "      <td>3.5</td>\n",
       "      <td>1.00</td>\n",
       "      <td>0</td>\n",
       "    </tr>\n",
       "    <tr>\n",
       "      <td>8</td>\n",
       "      <td>29</td>\n",
       "      <td>0</td>\n",
       "      <td>0.9</td>\n",
       "      <td>0.3</td>\n",
       "      <td>202</td>\n",
       "      <td>14</td>\n",
       "      <td>11</td>\n",
       "      <td>6.7</td>\n",
       "      <td>3.6</td>\n",
       "      <td>1.10</td>\n",
       "      <td>0</td>\n",
       "    </tr>\n",
       "    <tr>\n",
       "      <td>9</td>\n",
       "      <td>17</td>\n",
       "      <td>1</td>\n",
       "      <td>0.9</td>\n",
       "      <td>0.3</td>\n",
       "      <td>202</td>\n",
       "      <td>22</td>\n",
       "      <td>19</td>\n",
       "      <td>7.4</td>\n",
       "      <td>4.1</td>\n",
       "      <td>1.20</td>\n",
       "      <td>1</td>\n",
       "    </tr>\n",
       "    <tr>\n",
       "      <td>10</td>\n",
       "      <td>55</td>\n",
       "      <td>1</td>\n",
       "      <td>0.7</td>\n",
       "      <td>0.2</td>\n",
       "      <td>290</td>\n",
       "      <td>53</td>\n",
       "      <td>58</td>\n",
       "      <td>6.8</td>\n",
       "      <td>3.4</td>\n",
       "      <td>1.00</td>\n",
       "      <td>0</td>\n",
       "    </tr>\n",
       "  </tbody>\n",
       "</table>\n",
       "</div>"
      ],
      "text/plain": [
       "    Age  Gender  Total_Bilirubin  Direct_Bilirubin  Alkaline_Phosphotase  \\\n",
       "0                                                                          \n",
       "1    65       0              0.7               0.1                   187   \n",
       "2    62       1             10.9               5.5                   699   \n",
       "3    62       1              7.3               4.1                   490   \n",
       "4    58       1              1.0               0.4                   182   \n",
       "5    72       1              3.9               2.0                   195   \n",
       "6    46       1              1.8               0.7                   208   \n",
       "7    26       0              0.9               0.2                   154   \n",
       "8    29       0              0.9               0.3                   202   \n",
       "9    17       1              0.9               0.3                   202   \n",
       "10   55       1              0.7               0.2                   290   \n",
       "\n",
       "    Alamine_Aminotransferase  Aspartate_Aminotransferase  Total_Protiens  \\\n",
       "0                                                                          \n",
       "1                         16                          18             6.8   \n",
       "2                         64                         100             7.5   \n",
       "3                         60                          68             7.0   \n",
       "4                         14                          20             6.8   \n",
       "5                         27                          59             7.3   \n",
       "6                         19                          14             7.6   \n",
       "7                         16                          12             7.0   \n",
       "8                         14                          11             6.7   \n",
       "9                         22                          19             7.4   \n",
       "10                        53                          58             6.8   \n",
       "\n",
       "    Albumin  Albumin_and_Globulin_Ratio  Class  \n",
       "0                                               \n",
       "1       3.3                        0.90      0  \n",
       "2       3.2                        0.74      0  \n",
       "3       3.3                        0.89      0  \n",
       "4       3.4                        1.00      0  \n",
       "5       2.4                        0.40      0  \n",
       "6       4.4                        1.30      0  \n",
       "7       3.5                        1.00      0  \n",
       "8       3.6                        1.10      0  \n",
       "9       4.1                        1.20      1  \n",
       "10      3.4                        1.00      0  "
      ]
     },
     "execution_count": 221,
     "metadata": {},
     "output_type": "execute_result"
    }
   ],
   "source": [
    "df.head(10)"
   ]
  },
  {
   "cell_type": "markdown",
   "metadata": {},
   "source": [
    "# Creating X and Y variable of the data"
   ]
  },
  {
   "cell_type": "code",
   "execution_count": 222,
   "metadata": {},
   "outputs": [],
   "source": [
    "X=df.iloc[:,:-1]\n",
    "Y=df.iloc[:,-1]\n",
    "Y=Y.astype(int)"
   ]
  },
  {
   "cell_type": "code",
   "execution_count": 223,
   "metadata": {},
   "outputs": [
    {
     "data": {
      "text/plain": [
       "(583, 10)"
      ]
     },
     "execution_count": 223,
     "metadata": {},
     "output_type": "execute_result"
    }
   ],
   "source": [
    "X.shape"
   ]
  },
  {
   "cell_type": "markdown",
   "metadata": {},
   "source": [
    "# Scaling the data"
   ]
  },
  {
   "cell_type": "code",
   "execution_count": 224,
   "metadata": {},
   "outputs": [
    {
     "data": {
      "text/plain": [
       "array([[ 1.25209764, -1.76228085, -0.41887783, ...,  0.30646825,\n",
       "         0.19896867, -0.14902528],\n",
       "       [ 1.06663704,  0.56744644,  1.22517135, ...,  0.95957369,\n",
       "         0.07315659, -0.65177676],\n",
       "       [ 1.06663704,  0.56744644,  0.6449187 , ...,  0.4930698 ,\n",
       "         0.19896867, -0.18044725],\n",
       "       ...,\n",
       "       [ 0.44843504,  0.56744644, -0.4027597 , ..., -0.06673486,\n",
       "         0.07315659,  0.16519439],\n",
       "       [-0.84978917,  0.56744644, -0.32216906, ...,  0.30646825,\n",
       "         0.32478075,  0.16519439],\n",
       "       [-0.41704777,  0.56744644, -0.37052344, ...,  0.77297214,\n",
       "         1.58290153,  1.73629275]])"
      ]
     },
     "execution_count": 224,
     "metadata": {},
     "output_type": "execute_result"
    }
   ],
   "source": [
    "from sklearn.preprocessing import StandardScaler\n",
    "scaler=StandardScaler()\n",
    "scaler.fit(X)\n",
    "X=scaler.transform(X)\n",
    "X"
   ]
  },
  {
   "cell_type": "code",
   "execution_count": 225,
   "metadata": {},
   "outputs": [],
   "source": [
    "#splitting the data into train and test\n",
    "from sklearn.model_selection import train_test_split\n",
    "X_train,X_test,Y_train,Y_test=train_test_split(X,Y,test_size=0.3,random_state=10)"
   ]
  },
  {
   "cell_type": "markdown",
   "metadata": {},
   "source": [
    "# Logistic Regression"
   ]
  },
  {
   "cell_type": "code",
   "execution_count": 226,
   "metadata": {},
   "outputs": [
    {
     "name": "stdout",
     "output_type": "stream",
     "text": [
      "[[-0.40646699 -0.01187005 -0.27458957 -0.84001423 -0.37925855 -1.19746557\n",
      "  -0.7660016  -0.46498272  0.55011611 -0.13030448]]\n",
      "[-1.62840828]\n"
     ]
    }
   ],
   "source": [
    "from sklearn.linear_model import LogisticRegression\n",
    "classifier=LogisticRegression()\n",
    "classifier.fit(X_train,Y_train)\n",
    "Y_pred=classifier.predict(X_test)\n",
    "#print(list(zip(Y_test,Y_pred)))\n",
    "print(classifier.coef_)#coef is used to know the value of the coefficient which is nothing but the change in the value with the value change\n",
    "print(classifier.intercept_)"
   ]
  },
  {
   "cell_type": "code",
   "execution_count": 227,
   "metadata": {},
   "outputs": [
    {
     "name": "stdout",
     "output_type": "stream",
     "text": [
      "[[7.39531790e-01 2.60468210e-01]\n",
      " [9.86843392e-01 1.31566076e-02]\n",
      " [3.95872912e-01 6.04127088e-01]\n",
      " [8.30774337e-01 1.69225663e-01]\n",
      " [6.30956915e-01 3.69043085e-01]\n",
      " [5.33775227e-01 4.66224773e-01]\n",
      " [5.31787525e-01 4.68212475e-01]\n",
      " [9.00313949e-01 9.96860509e-02]\n",
      " [6.46063204e-01 3.53936796e-01]\n",
      " [9.99999286e-01 7.13702228e-07]\n",
      " [9.96233116e-01 3.76688388e-03]\n",
      " [4.39861884e-01 5.60138116e-01]\n",
      " [7.86531366e-01 2.13468634e-01]\n",
      " [6.57445941e-01 3.42554059e-01]\n",
      " [8.62546033e-01 1.37453967e-01]\n",
      " [9.88108003e-01 1.18919974e-02]\n",
      " [4.00529862e-01 5.99470138e-01]\n",
      " [7.18939802e-01 2.81060198e-01]\n",
      " [9.11504080e-01 8.84959202e-02]\n",
      " [7.50255086e-01 2.49744914e-01]\n",
      " [5.04953955e-01 4.95046045e-01]\n",
      " [7.52034446e-01 2.47965554e-01]\n",
      " [7.59548123e-01 2.40451877e-01]\n",
      " [3.88252631e-01 6.11747369e-01]\n",
      " [7.25346534e-01 2.74653466e-01]\n",
      " [7.52243666e-01 2.47756334e-01]\n",
      " [7.23347969e-01 2.76652031e-01]\n",
      " [7.28920682e-01 2.71079318e-01]\n",
      " [9.99871842e-01 1.28157892e-04]\n",
      " [6.18701558e-01 3.81298442e-01]\n",
      " [8.12116083e-01 1.87883917e-01]\n",
      " [7.94276466e-01 2.05723534e-01]\n",
      " [6.87909579e-01 3.12090421e-01]\n",
      " [4.73276379e-01 5.26723621e-01]\n",
      " [5.05162199e-01 4.94837801e-01]\n",
      " [8.75888668e-01 1.24111332e-01]\n",
      " [8.29888210e-01 1.70111790e-01]\n",
      " [4.47419343e-01 5.52580657e-01]\n",
      " [8.51035603e-01 1.48964397e-01]\n",
      " [4.42066969e-01 5.57933031e-01]\n",
      " [9.97777136e-01 2.22286407e-03]\n",
      " [5.84573837e-01 4.15426163e-01]\n",
      " [5.86129799e-01 4.13870201e-01]\n",
      " [6.28815622e-01 3.71184378e-01]\n",
      " [8.78184941e-01 1.21815059e-01]\n",
      " [9.84651960e-01 1.53480404e-02]\n",
      " [7.86011441e-01 2.13988559e-01]\n",
      " [4.60098106e-01 5.39901894e-01]\n",
      " [9.99997937e-01 2.06292664e-06]\n",
      " [6.17220281e-01 3.82779719e-01]\n",
      " [9.85419716e-01 1.45802838e-02]\n",
      " [6.49203902e-01 3.50796098e-01]\n",
      " [6.24490074e-01 3.75509926e-01]\n",
      " [9.98591618e-01 1.40838155e-03]\n",
      " [7.75155850e-01 2.24844150e-01]\n",
      " [7.50536160e-01 2.49463840e-01]\n",
      " [7.40015546e-01 2.59984454e-01]\n",
      " [6.17220281e-01 3.82779719e-01]\n",
      " [8.14611856e-01 1.85388144e-01]\n",
      " [8.69303908e-01 1.30696092e-01]\n",
      " [5.37589063e-01 4.62410937e-01]\n",
      " [6.76562252e-01 3.23437748e-01]\n",
      " [6.75098791e-01 3.24901209e-01]\n",
      " [6.63874572e-01 3.36125428e-01]\n",
      " [9.94366510e-01 5.63348951e-03]\n",
      " [4.39399542e-01 5.60600458e-01]\n",
      " [8.49266563e-01 1.50733437e-01]\n",
      " [4.25671849e-01 5.74328151e-01]\n",
      " [4.55193726e-01 5.44806274e-01]\n",
      " [7.63510616e-01 2.36489384e-01]\n",
      " [6.04372269e-01 3.95627731e-01]\n",
      " [5.97060127e-01 4.02939873e-01]\n",
      " [3.13738293e-01 6.86261707e-01]\n",
      " [6.40981260e-01 3.59018740e-01]\n",
      " [5.83964452e-01 4.16035548e-01]\n",
      " [5.25433835e-01 4.74566165e-01]\n",
      " [6.73289977e-01 3.26710023e-01]\n",
      " [5.25756866e-01 4.74243134e-01]\n",
      " [5.82554708e-01 4.17445292e-01]\n",
      " [4.03354249e-01 5.96645751e-01]\n",
      " [9.11353181e-01 8.86468185e-02]\n",
      " [7.63924568e-01 2.36075432e-01]\n",
      " [9.99454877e-01 5.45122743e-04]\n",
      " [9.20071314e-01 7.99286861e-02]\n",
      " [9.41521573e-01 5.84784273e-02]\n",
      " [5.82537959e-01 4.17462041e-01]\n",
      " [7.95786396e-01 2.04213604e-01]\n",
      " [5.98951669e-01 4.01048331e-01]\n",
      " [7.00556860e-01 2.99443140e-01]\n",
      " [9.88224263e-01 1.17757373e-02]\n",
      " [8.47726169e-01 1.52273831e-01]\n",
      " [6.85703033e-01 3.14296967e-01]\n",
      " [6.09820083e-01 3.90179917e-01]\n",
      " [5.94736941e-01 4.05263059e-01]\n",
      " [6.68475624e-01 3.31524376e-01]\n",
      " [9.70090781e-01 2.99092188e-02]\n",
      " [9.95885413e-01 4.11458723e-03]\n",
      " [7.88684553e-01 2.11315447e-01]\n",
      " [7.39366576e-01 2.60633424e-01]\n",
      " [4.58835341e-01 5.41164659e-01]\n",
      " [5.72813593e-01 4.27186407e-01]\n",
      " [9.93326426e-01 6.67357412e-03]\n",
      " [5.34457729e-01 4.65542271e-01]\n",
      " [5.44578228e-01 4.55421772e-01]\n",
      " [9.15025191e-01 8.49748087e-02]\n",
      " [9.23352968e-01 7.66470323e-02]\n",
      " [8.84398733e-01 1.15601267e-01]\n",
      " [6.27498487e-01 3.72501513e-01]\n",
      " [7.18304164e-01 2.81695836e-01]\n",
      " [6.07688854e-01 3.92311146e-01]\n",
      " [6.79690246e-01 3.20309754e-01]\n",
      " [9.96181999e-01 3.81800141e-03]\n",
      " [8.14916467e-01 1.85083533e-01]\n",
      " [6.89851253e-01 3.10148747e-01]\n",
      " [8.25028916e-01 1.74971084e-01]\n",
      " [7.22006995e-01 2.77993005e-01]\n",
      " [7.40497379e-01 2.59502621e-01]\n",
      " [6.10446574e-01 3.89553426e-01]\n",
      " [5.63571916e-01 4.36428084e-01]\n",
      " [7.16636312e-01 2.83363688e-01]\n",
      " [8.64434531e-01 1.35565469e-01]\n",
      " [7.58305445e-01 2.41694555e-01]\n",
      " [9.40363198e-01 5.96368022e-02]\n",
      " [9.08051809e-01 9.19481907e-02]\n",
      " [4.37892105e-01 5.62107895e-01]\n",
      " [9.90528539e-01 9.47146070e-03]\n",
      " [6.56474277e-01 3.43525723e-01]\n",
      " [6.01632928e-01 3.98367072e-01]\n",
      " [9.99988830e-01 1.11700399e-05]\n",
      " [5.46880986e-01 4.53119014e-01]\n",
      " [9.98542909e-01 1.45709063e-03]\n",
      " [9.98876266e-01 1.12373391e-03]\n",
      " [8.56788460e-01 1.43211540e-01]\n",
      " [9.49539820e-01 5.04601796e-02]\n",
      " [9.99999844e-01 1.56418044e-07]\n",
      " [4.00386591e-01 5.99613409e-01]\n",
      " [6.53686710e-01 3.46313290e-01]\n",
      " [6.80016504e-01 3.19983496e-01]\n",
      " [6.70532232e-01 3.29467768e-01]\n",
      " [7.95886888e-01 2.04113112e-01]\n",
      " [6.97838243e-01 3.02161757e-01]\n",
      " [9.84737053e-01 1.52629475e-02]\n",
      " [3.57101511e-01 6.42898489e-01]\n",
      " [4.55809669e-01 5.44190331e-01]\n",
      " [6.16487834e-01 3.83512166e-01]\n",
      " [8.56115565e-01 1.43884435e-01]\n",
      " [7.20393133e-01 2.79606867e-01]\n",
      " [8.43495344e-01 1.56504656e-01]\n",
      " [4.97216709e-01 5.02783291e-01]\n",
      " [6.13965980e-01 3.86034020e-01]\n",
      " [9.99898482e-01 1.01518337e-04]\n",
      " [6.71617323e-01 3.28382677e-01]\n",
      " [8.28787516e-01 1.71212484e-01]\n",
      " [8.56894882e-01 1.43105118e-01]\n",
      " [9.99652243e-01 3.47756538e-04]\n",
      " [7.04954698e-01 2.95045302e-01]\n",
      " [6.43835069e-01 3.56164931e-01]\n",
      " [7.94750909e-01 2.05249091e-01]\n",
      " [6.00985973e-01 3.99014027e-01]\n",
      " [4.58444547e-01 5.41555453e-01]\n",
      " [7.54405215e-01 2.45594785e-01]\n",
      " [7.92061616e-01 2.07938384e-01]\n",
      " [6.03875646e-01 3.96124354e-01]\n",
      " [6.28534017e-01 3.71465983e-01]\n",
      " [4.32520531e-01 5.67479469e-01]\n",
      " [9.99999206e-01 7.94136135e-07]\n",
      " [6.78972573e-01 3.21027427e-01]\n",
      " [9.94299653e-01 5.70034679e-03]\n",
      " [8.88884999e-01 1.11115001e-01]\n",
      " [5.15367404e-01 4.84632596e-01]\n",
      " [6.78419216e-01 3.21580784e-01]\n",
      " [9.92581370e-01 7.41863028e-03]\n",
      " [7.84632714e-01 2.15367286e-01]\n",
      " [9.68743079e-01 3.12569206e-02]\n",
      " [7.15070599e-01 2.84929401e-01]]\n"
     ]
    }
   ],
   "source": [
    "y_pred_prob = classifier.predict_proba(X_test)\n",
    "print(y_pred_prob)"
   ]
  },
  {
   "cell_type": "code",
   "execution_count": 228,
   "metadata": {},
   "outputs": [],
   "source": [
    "#0---->No\n",
    "#1---->yes."
   ]
  },
  {
   "cell_type": "code",
   "execution_count": 229,
   "metadata": {},
   "outputs": [
    {
     "name": "stdout",
     "output_type": "stream",
     "text": [
      "[[114  12]\n",
      " [ 40   9]]\n",
      "Classification report:\n",
      "              precision    recall  f1-score   support\n",
      "\n",
      "           0       0.74      0.90      0.81       126\n",
      "           1       0.43      0.18      0.26        49\n",
      "\n",
      "    accuracy                           0.70       175\n",
      "   macro avg       0.58      0.54      0.54       175\n",
      "weighted avg       0.65      0.70      0.66       175\n",
      "\n",
      "Accracy of the model: 0.7028571428571428\n"
     ]
    }
   ],
   "source": [
    "from sklearn.metrics import confusion_matrix,accuracy_score,classification_report\n",
    "cfm=confusion_matrix(Y_test,Y_pred)\n",
    "print(cfm)\n",
    "print(\"Classification report:\")\n",
    "print(classification_report(Y_test,Y_pred))#recall is accuracy score for individual class. class 0 is called as specificity or TNR, class 1 is called sensitivity or TPR\n",
    "acc=accuracy_score(Y_test,Y_pred)\n",
    "print(\"Accracy of the model:\",acc)"
   ]
  },
  {
   "cell_type": "markdown",
   "metadata": {},
   "source": [
    "# adjusting the threshold"
   ]
  },
  {
   "cell_type": "code",
   "execution_count": 230,
   "metadata": {},
   "outputs": [
    {
     "name": "stdout",
     "output_type": "stream",
     "text": [
      "Errors at threshold  0.4 : 57  , type 2 error : 32  , type 1 error: 25\n",
      "Errors at threshold  0.41000000000000003 : 56  , type 2 error : 33  , type 1 error: 23\n",
      "Errors at threshold  0.42000000000000004 : 55  , type 2 error : 35  , type 1 error: 20\n",
      "Errors at threshold  0.43000000000000005 : 56  , type 2 error : 36  , type 1 error: 20\n",
      "Errors at threshold  0.44000000000000006 : 55  , type 2 error : 36  , type 1 error: 19\n",
      "Errors at threshold  0.45000000000000007 : 55  , type 2 error : 36  , type 1 error: 19\n",
      "Errors at threshold  0.4600000000000001 : 55  , type 2 error : 37  , type 1 error: 18\n",
      "Errors at threshold  0.4700000000000001 : 53  , type 2 error : 38  , type 1 error: 15\n",
      "Errors at threshold  0.4800000000000001 : 51  , type 2 error : 38  , type 1 error: 13\n",
      "Errors at threshold  0.4900000000000001 : 50  , type 2 error : 38  , type 1 error: 12\n",
      "Errors at threshold  0.5000000000000001 : 52  , type 2 error : 40  , type 1 error: 12\n",
      "Errors at threshold  0.5100000000000001 : 51  , type 2 error : 40  , type 1 error: 11\n",
      "Errors at threshold  0.5200000000000001 : 51  , type 2 error : 40  , type 1 error: 11\n",
      "Errors at threshold  0.5300000000000001 : 52  , type 2 error : 41  , type 1 error: 11\n",
      "Errors at threshold  0.5400000000000001 : 51  , type 2 error : 41  , type 1 error: 10\n",
      "Errors at threshold  0.5500000000000002 : 49  , type 2 error : 42  , type 1 error: 7\n",
      "Errors at threshold  0.5600000000000002 : 49  , type 2 error : 43  , type 1 error: 6\n",
      "Errors at threshold  0.5700000000000002 : 47  , type 2 error : 44  , type 1 error: 3\n",
      "Errors at threshold  0.5800000000000002 : 48  , type 2 error : 45  , type 1 error: 3\n",
      "Errors at threshold  0.5900000000000002 : 48  , type 2 error : 45  , type 1 error: 3\n",
      "Errors at threshold  0.6000000000000002 : 49  , type 2 error : 47  , type 1 error: 2\n"
     ]
    }
   ],
   "source": [
    "for a in np.arange(0.4,0.61,0.01):\n",
    "    predict_mine = np.where(y_pred_prob[:,1] > a, 1, 0)\n",
    "    cfm=confusion_matrix(Y_test, predict_mine)\n",
    "    total_err=cfm[0,1]+cfm[1,0]\n",
    "    print(\"Errors at threshold \", a, \":\",total_err, \" , type 2 error :\",\n",
    "    cfm[1,0],\" , type 1 error:\", cfm[0,1])"
   ]
  },
  {
   "cell_type": "code",
   "execution_count": 231,
   "metadata": {},
   "outputs": [
    {
     "name": "stdout",
     "output_type": "stream",
     "text": [
      "[0, 0, 1, 0, 0, 0, 0, 0, 0, 0, 0, 0, 0, 0, 0, 0, 1, 0, 0, 0, 0, 0, 0, 1, 0, 0, 0, 0, 0, 0, 0, 0, 0, 0, 0, 0, 0, 0, 0, 0, 0, 0, 0, 0, 0, 0, 0, 0, 0, 0, 0, 0, 0, 0, 0, 0, 0, 0, 0, 0, 0, 0, 0, 0, 0, 0, 0, 1, 0, 0, 0, 0, 1, 0, 0, 0, 0, 0, 0, 1, 0, 0, 0, 0, 0, 0, 0, 0, 0, 0, 0, 0, 0, 0, 0, 0, 0, 0, 0, 0, 0, 0, 0, 0, 0, 0, 0, 0, 0, 0, 0, 0, 0, 0, 0, 0, 0, 0, 0, 0, 0, 0, 0, 0, 0, 0, 0, 0, 0, 0, 0, 0, 0, 0, 0, 1, 0, 0, 0, 0, 0, 0, 1, 0, 0, 0, 0, 0, 0, 0, 0, 0, 0, 0, 0, 0, 0, 0, 0, 0, 0, 0, 0, 0, 0, 0, 0, 0, 0, 0, 0, 0, 0, 0, 0]\n"
     ]
    }
   ],
   "source": [
    "y_pred_class=[]\n",
    "for value in y_pred_prob[:,1]:\n",
    "    if value >0.57:\n",
    "        y_pred_class.append(1)\n",
    "    else:\n",
    "        y_pred_class.append(0)\n",
    "print(y_pred_class)"
   ]
  },
  {
   "cell_type": "code",
   "execution_count": 232,
   "metadata": {},
   "outputs": [
    {
     "name": "stdout",
     "output_type": "stream",
     "text": [
      "[[114  12]\n",
      " [ 40   9]]\n",
      "Classification report:\n",
      "              precision    recall  f1-score   support\n",
      "\n",
      "           0       0.74      0.90      0.81       126\n",
      "           1       0.43      0.18      0.26        49\n",
      "\n",
      "    accuracy                           0.70       175\n",
      "   macro avg       0.58      0.54      0.54       175\n",
      "weighted avg       0.65      0.70      0.66       175\n",
      "\n",
      "Accracy of the model: 0.7028571428571428\n"
     ]
    }
   ],
   "source": [
    "from sklearn.metrics import confusion_matrix,accuracy_score,classification_report\n",
    "cfm=confusion_matrix(Y_test,Y_pred)\n",
    "print(cfm)\n",
    "print(\"Classification report:\")\n",
    "print(classification_report(Y_test,Y_pred))#recall is accuracy score for individual class. class 0 is called as specificity or TNR, class 1 is called sensitivity or TPR\n",
    "acc=accuracy_score(Y_test,Y_pred)\n",
    "print(\"Accracy of the model:\",acc)"
   ]
  },
  {
   "cell_type": "code",
   "execution_count": 233,
   "metadata": {},
   "outputs": [
    {
     "data": {
      "text/plain": [
       "0    416\n",
       "1    167\n",
       "Name: Class, dtype: int64"
      ]
     },
     "execution_count": 233,
     "metadata": {},
     "output_type": "execute_result"
    }
   ],
   "source": [
    "Y.value_counts()"
   ]
  },
  {
   "cell_type": "markdown",
   "metadata": {},
   "source": [
    "# Upsampling the data"
   ]
  },
  {
   "cell_type": "code",
   "execution_count": 234,
   "metadata": {},
   "outputs": [
    {
     "data": {
      "text/plain": [
       "1    416\n",
       "0    416\n",
       "Name: Class, dtype: int64"
      ]
     },
     "execution_count": 234,
     "metadata": {},
     "output_type": "execute_result"
    }
   ],
   "source": [
    "from sklearn.utils import resample\n",
    "# Separate majority and minority classes\n",
    "df_majority = df[df.Class==0]\n",
    "df_minority = df[df.Class==1]\n",
    "\n",
    "# Upsample minority class\n",
    "df_minority_upsampled = resample(df_minority,\n",
    "replace=True, # sample with replacement\n",
    "n_samples=416, # to match majority class\n",
    "random_state=10) # reproducible results\n",
    "\n",
    "# Combine majority class with upsampled minority class\n",
    "df_upsampled = pd.concat([df_majority, df_minority_upsampled])\n",
    "\n",
    "# Display new class counts\n",
    "df_upsampled.Class.value_counts()"
   ]
  },
  {
   "cell_type": "markdown",
   "metadata": {},
   "source": [
    "# Creating X And Y on upsampled data"
   ]
  },
  {
   "cell_type": "code",
   "execution_count": 235,
   "metadata": {},
   "outputs": [
    {
     "data": {
      "text/plain": [
       "array([[65.  ,  0.  ,  0.7 , ...,  6.8 ,  3.3 ,  0.9 ],\n",
       "       [62.  ,  1.  , 10.9 , ...,  7.5 ,  3.2 ,  0.74],\n",
       "       [62.  ,  1.  ,  7.3 , ...,  7.  ,  3.3 ,  0.89],\n",
       "       ...,\n",
       "       [41.  ,  0.  ,  0.9 , ...,  7.6 ,  3.8 ,  1.  ],\n",
       "       [30.  ,  0.  ,  0.8 , ...,  7.9 ,  4.5 ,  1.3 ],\n",
       "       [35.  ,  1.  ,  0.9 , ...,  6.4 ,  3.6 ,  1.2 ]])"
      ]
     },
     "execution_count": 235,
     "metadata": {},
     "output_type": "execute_result"
    }
   ],
   "source": [
    "X=df_upsampled.values[:,:-1]\n",
    "Y=df_upsampled.values[:,-1]\n",
    "X"
   ]
  },
  {
   "cell_type": "code",
   "execution_count": 236,
   "metadata": {},
   "outputs": [
    {
     "name": "stdout",
     "output_type": "stream",
     "text": [
      "[[ 1.31929811 -1.73762012 -0.36813594 ...  0.26926117  0.12505717\n",
      "  -0.20620087]\n",
      " [ 1.13104244  0.57549978  1.55193588 ...  0.91887886  0.00192396\n",
      "  -0.71584551]\n",
      " [ 1.13104244  0.57549978  0.87426347 ...  0.45486623  0.12505717\n",
      "  -0.23805366]\n",
      " ...\n",
      " [-0.18674721 -1.73762012 -0.33048747 ...  1.01168138  0.74072321\n",
      "   0.11232703]\n",
      " [-0.87701797 -1.73762012 -0.34931171 ...  1.29008896  1.60265568\n",
      "   1.06791072]\n",
      " [-0.56325853  0.57549978 -0.33048747 ... -0.10194893  0.4944568\n",
      "   0.74938282]]\n"
     ]
    }
   ],
   "source": [
    "from sklearn.preprocessing import StandardScaler\n",
    "scaler=StandardScaler()\n",
    "scaler.fit(X)\n",
    "X=scaler.transform(X)\n",
    "print(X)"
   ]
  },
  {
   "cell_type": "code",
   "execution_count": 237,
   "metadata": {},
   "outputs": [],
   "source": [
    "from sklearn.model_selection import train_test_split\n",
    "X_train,X_test,Y_train,Y_test=train_test_split(X,Y,test_size=0.3,random_state=10)"
   ]
  },
  {
   "cell_type": "markdown",
   "metadata": {},
   "source": [
    "# Logistic Regression On upsampled data"
   ]
  },
  {
   "cell_type": "code",
   "execution_count": 238,
   "metadata": {},
   "outputs": [
    {
     "name": "stdout",
     "output_type": "stream",
     "text": [
      "[[-0.39993428  0.05188035 -0.32275944 -0.95320255 -0.20368103 -1.58843149\n",
      "  -0.85348785 -0.19373896  0.25520743 -0.13609385]]\n",
      "[-0.51741148]\n"
     ]
    }
   ],
   "source": [
    "from sklearn.linear_model import LogisticRegression\n",
    "classifier=LogisticRegression()\n",
    "classifier.fit(X_train,Y_train)\n",
    "Y_pred=classifier.predict(X_test)\n",
    "#print(list(zip(Y_test,Y_pred)))\n",
    "print(classifier.coef_)#coef is used to know the value of the coefficient which is nothing but the change in the value with the value change\n",
    "print(classifier.intercept_)"
   ]
  },
  {
   "cell_type": "code",
   "execution_count": 239,
   "metadata": {},
   "outputs": [
    {
     "name": "stdout",
     "output_type": "stream",
     "text": [
      "[[2.24372349e-01 7.75627651e-01]\n",
      " [9.99631113e-01 3.68886763e-04]\n",
      " [4.88740240e-01 5.11259760e-01]\n",
      " [2.18506102e-01 7.81493898e-01]\n",
      " [2.47915849e-01 7.52084151e-01]\n",
      " [5.18172789e-01 4.81827211e-01]\n",
      " [3.69562602e-01 6.30437398e-01]\n",
      " [4.31324826e-01 5.68675174e-01]\n",
      " [6.69262057e-01 3.30737943e-01]\n",
      " [9.96379818e-01 3.62018172e-03]\n",
      " [3.34862489e-01 6.65137511e-01]\n",
      " [3.38912010e-01 6.61087990e-01]\n",
      " [3.49300139e-01 6.50699861e-01]\n",
      " [5.43513254e-01 4.56486746e-01]\n",
      " [7.96039229e-01 2.03960771e-01]\n",
      " [2.87515126e-01 7.12484874e-01]\n",
      " [4.18448372e-01 5.81551628e-01]\n",
      " [2.63407965e-01 7.36592035e-01]\n",
      " [3.29817670e-01 6.70182330e-01]\n",
      " [5.42586798e-01 4.57413202e-01]\n",
      " [5.04725021e-01 4.95274979e-01]\n",
      " [2.72673814e-01 7.27326186e-01]\n",
      " [3.02319227e-01 6.97680773e-01]\n",
      " [4.80823090e-01 5.19176910e-01]\n",
      " [4.18448372e-01 5.81551628e-01]\n",
      " [9.77812116e-01 2.21878839e-02]\n",
      " [7.65070698e-01 2.34929302e-01]\n",
      " [3.73404542e-01 6.26595458e-01]\n",
      " [2.66339994e-01 7.33660006e-01]\n",
      " [4.85830020e-01 5.14169980e-01]\n",
      " [5.78805737e-01 4.21194263e-01]\n",
      " [3.56607859e-01 6.43392141e-01]\n",
      " [3.99083656e-01 6.00916344e-01]\n",
      " [4.91751041e-01 5.08248959e-01]\n",
      " [5.20838515e-01 4.79161485e-01]\n",
      " [5.08199357e-01 4.91800643e-01]\n",
      " [2.23244371e-01 7.76755629e-01]\n",
      " [4.15562184e-01 5.84437816e-01]\n",
      " [4.28023758e-01 5.71976242e-01]\n",
      " [3.51914540e-01 6.48085460e-01]\n",
      " [3.57409040e-01 6.42590960e-01]\n",
      " [5.96530379e-01 4.03469621e-01]\n",
      " [9.99061632e-01 9.38367666e-04]\n",
      " [8.82297854e-01 1.17702146e-01]\n",
      " [4.28173696e-01 5.71826304e-01]\n",
      " [2.79203061e-01 7.20796939e-01]\n",
      " [8.53738180e-01 1.46261820e-01]\n",
      " [4.57910713e-01 5.42089287e-01]\n",
      " [5.86496054e-01 4.13503946e-01]\n",
      " [7.08501601e-01 2.91498399e-01]\n",
      " [9.99804097e-01 1.95902891e-04]\n",
      " [9.99967855e-01 3.21453738e-05]\n",
      " [4.83907816e-01 5.16092184e-01]\n",
      " [2.88746804e-01 7.11253196e-01]\n",
      " [6.24023031e-01 3.75976969e-01]\n",
      " [5.78805737e-01 4.21194263e-01]\n",
      " [4.09448623e-01 5.90551377e-01]\n",
      " [9.98631186e-01 1.36881446e-03]\n",
      " [4.84956882e-01 5.15043118e-01]\n",
      " [2.96650910e-01 7.03349090e-01]\n",
      " [4.69154812e-01 5.30845188e-01]\n",
      " [8.86565812e-01 1.13434188e-01]\n",
      " [3.38551034e-01 6.61448966e-01]\n",
      " [2.65584960e-01 7.34415040e-01]\n",
      " [5.03830898e-01 4.96169102e-01]\n",
      " [5.61974933e-01 4.38025067e-01]\n",
      " [2.28606049e-01 7.71393951e-01]\n",
      " [3.77629091e-01 6.22370909e-01]\n",
      " [4.10082231e-01 5.89917769e-01]\n",
      " [4.54162896e-01 5.45837104e-01]\n",
      " [9.47955959e-01 5.20440409e-02]\n",
      " [2.29331297e-01 7.70668703e-01]\n",
      " [2.57972056e-01 7.42027944e-01]\n",
      " [4.20632118e-01 5.79367882e-01]\n",
      " [9.99567011e-01 4.32988611e-04]\n",
      " [3.99083656e-01 6.00916344e-01]\n",
      " [3.38912010e-01 6.61087990e-01]\n",
      " [3.52082280e-01 6.47917720e-01]\n",
      " [7.50940725e-01 2.49059275e-01]\n",
      " [3.24066588e-01 6.75933412e-01]\n",
      " [9.93919667e-01 6.08033287e-03]\n",
      " [5.46951646e-01 4.53048354e-01]\n",
      " [5.01484591e-01 4.98515409e-01]\n",
      " [6.22230657e-01 3.77769343e-01]\n",
      " [4.36582558e-01 5.63417442e-01]\n",
      " [2.91835444e-01 7.08164556e-01]\n",
      " [6.04883254e-01 3.95116746e-01]\n",
      " [4.24782854e-01 5.75217146e-01]\n",
      " [3.57395574e-01 6.42604426e-01]\n",
      " [3.39944942e-01 6.60055058e-01]\n",
      " [2.99653048e-01 7.00346952e-01]\n",
      " [3.99182697e-01 6.00817303e-01]\n",
      " [3.38912010e-01 6.61087990e-01]\n",
      " [2.95360065e-01 7.04639935e-01]\n",
      " [7.51483056e-01 2.48516944e-01]\n",
      " [4.95946240e-01 5.04053760e-01]\n",
      " [1.93721202e-01 8.06278798e-01]\n",
      " [6.13541826e-01 3.86458174e-01]\n",
      " [2.52143182e-01 7.47856818e-01]\n",
      " [2.55958189e-01 7.44041811e-01]\n",
      " [9.81377001e-01 1.86229986e-02]\n",
      " [4.78769021e-01 5.21230979e-01]\n",
      " [5.59115560e-01 4.40884440e-01]\n",
      " [6.23029913e-01 3.76970087e-01]\n",
      " [2.80362871e-01 7.19637129e-01]\n",
      " [8.65507920e-01 1.34492080e-01]\n",
      " [2.76475832e-01 7.23524168e-01]\n",
      " [3.38912010e-01 6.61087990e-01]\n",
      " [6.41216977e-01 3.58783023e-01]\n",
      " [2.99253849e-01 7.00746151e-01]\n",
      " [5.44291869e-01 4.55708131e-01]\n",
      " [9.28375570e-01 7.16244300e-02]\n",
      " [4.36435486e-01 5.63564514e-01]\n",
      " [4.48719630e-01 5.51280370e-01]\n",
      " [5.07962827e-01 4.92037173e-01]\n",
      " [9.94657769e-01 5.34223117e-03]\n",
      " [3.99083656e-01 6.00916344e-01]\n",
      " [9.84653716e-01 1.53462839e-02]\n",
      " [2.40361229e-01 7.59638771e-01]\n",
      " [1.96251862e-01 8.03748138e-01]\n",
      " [4.41837340e-01 5.58162660e-01]\n",
      " [3.71555286e-01 6.28444714e-01]\n",
      " [4.16278749e-01 5.83721251e-01]\n",
      " [4.90717285e-01 5.09282715e-01]\n",
      " [3.86693119e-01 6.13306881e-01]\n",
      " [5.04880257e-01 4.95119743e-01]\n",
      " [5.78635648e-01 4.21364352e-01]\n",
      " [3.43762695e-01 6.56237305e-01]\n",
      " [2.67139390e-01 7.32860610e-01]\n",
      " [2.36296408e-01 7.63703592e-01]\n",
      " [4.65278494e-01 5.34721506e-01]\n",
      " [3.20474540e-01 6.79525460e-01]\n",
      " [4.73183090e-01 5.26816910e-01]\n",
      " [3.54422125e-01 6.45577875e-01]\n",
      " [5.33661047e-01 4.66338953e-01]\n",
      " [2.03886229e-01 7.96113771e-01]\n",
      " [4.48719630e-01 5.51280370e-01]\n",
      " [9.87652263e-01 1.23477370e-02]\n",
      " [9.99366446e-01 6.33554198e-04]\n",
      " [6.24063532e-01 3.75936468e-01]\n",
      " [5.17864229e-01 4.82135771e-01]\n",
      " [2.67354264e-01 7.32645736e-01]\n",
      " [2.67139390e-01 7.32860610e-01]\n",
      " [9.06908945e-01 9.30910548e-02]\n",
      " [5.17494684e-01 4.82505316e-01]\n",
      " [9.85796068e-01 1.42039319e-02]\n",
      " [3.59902514e-01 6.40097486e-01]\n",
      " [3.39437148e-01 6.60562852e-01]\n",
      " [2.94134962e-01 7.05865038e-01]\n",
      " [4.28173696e-01 5.71826304e-01]\n",
      " [3.16361934e-01 6.83638066e-01]\n",
      " [3.34862489e-01 6.65137511e-01]\n",
      " [6.24998908e-01 3.75001092e-01]\n",
      " [3.40317014e-01 6.59682986e-01]\n",
      " [5.44186128e-01 4.55813872e-01]\n",
      " [9.93221327e-01 6.77867329e-03]\n",
      " [5.04024496e-01 4.95975504e-01]\n",
      " [4.48357488e-01 5.51642512e-01]\n",
      " [2.52143182e-01 7.47856818e-01]\n",
      " [3.20044154e-01 6.79955846e-01]\n",
      " [4.14636540e-01 5.85363460e-01]\n",
      " [4.16278749e-01 5.83721251e-01]\n",
      " [2.36296408e-01 7.63703592e-01]\n",
      " [8.16167661e-01 1.83832339e-01]\n",
      " [9.75888263e-01 2.41117369e-02]\n",
      " [9.97412674e-01 2.58732613e-03]\n",
      " [8.48185004e-01 1.51814996e-01]\n",
      " [2.74392538e-01 7.25607462e-01]\n",
      " [2.79377610e-01 7.20622390e-01]\n",
      " [7.43824654e-01 2.56175346e-01]\n",
      " [6.98368837e-01 3.01631163e-01]\n",
      " [2.76906111e-01 7.23093889e-01]\n",
      " [7.23314571e-01 2.76685429e-01]\n",
      " [4.00786193e-01 5.99213807e-01]\n",
      " [5.59984741e-01 4.40015259e-01]\n",
      " [4.95484954e-01 5.04515046e-01]\n",
      " [9.99999996e-01 3.82318647e-09]\n",
      " [3.73799219e-01 6.26200781e-01]\n",
      " [3.39390405e-01 6.60609595e-01]\n",
      " [3.59902514e-01 6.40097486e-01]\n",
      " [2.36222425e-01 7.63777575e-01]\n",
      " [9.99264886e-01 7.35113657e-04]\n",
      " [3.96666259e-01 6.03333741e-01]\n",
      " [3.51782912e-01 6.48217088e-01]\n",
      " [3.86668475e-01 6.13331525e-01]\n",
      " [9.99914177e-01 8.58233212e-05]\n",
      " [4.00553911e-01 5.99446089e-01]\n",
      " [3.25659446e-01 6.74340554e-01]\n",
      " [3.22688115e-01 6.77311885e-01]\n",
      " [6.87566426e-01 3.12433574e-01]\n",
      " [3.90944937e-01 6.09055063e-01]\n",
      " [2.76475832e-01 7.23524168e-01]\n",
      " [4.73183090e-01 5.26816910e-01]\n",
      " [3.59902514e-01 6.40097486e-01]\n",
      " [8.71259539e-01 1.28740461e-01]\n",
      " [9.97463580e-01 2.53641951e-03]\n",
      " [6.62673203e-01 3.37326797e-01]\n",
      " [2.54731258e-01 7.45268742e-01]\n",
      " [4.03362573e-01 5.96637427e-01]\n",
      " [7.19444748e-01 2.80555252e-01]\n",
      " [4.35707425e-01 5.64292575e-01]\n",
      " [3.04171936e-01 6.95828064e-01]\n",
      " [9.84400337e-01 1.55996627e-02]\n",
      " [4.90165428e-01 5.09834572e-01]\n",
      " [9.97311630e-01 2.68836990e-03]\n",
      " [9.56249037e-01 4.37509633e-02]\n",
      " [4.18448372e-01 5.81551628e-01]\n",
      " [3.82173477e-01 6.17826523e-01]\n",
      " [3.50528934e-01 6.49471066e-01]\n",
      " [7.43824654e-01 2.56175346e-01]\n",
      " [9.54026211e-01 4.59737887e-02]\n",
      " [2.80477662e-01 7.19522338e-01]\n",
      " [2.26203255e-01 7.73796745e-01]\n",
      " [2.14886492e-01 7.85113508e-01]\n",
      " [3.57409040e-01 6.42590960e-01]\n",
      " [3.11563412e-01 6.88436588e-01]\n",
      " [9.99999999e-01 1.46670407e-09]\n",
      " [3.89711449e-01 6.10288551e-01]\n",
      " [3.07720677e-01 6.92279323e-01]\n",
      " [3.44289088e-01 6.55710912e-01]\n",
      " [2.92473007e-01 7.07526993e-01]\n",
      " [5.42586798e-01 4.57413202e-01]\n",
      " [4.09851104e-01 5.90148896e-01]\n",
      " [4.44633512e-01 5.55366488e-01]\n",
      " [3.51782912e-01 6.48217088e-01]\n",
      " [2.47915849e-01 7.52084151e-01]\n",
      " [2.21943661e-01 7.78056339e-01]\n",
      " [2.45472651e-01 7.54527349e-01]\n",
      " [4.14636540e-01 5.85363460e-01]\n",
      " [3.54422125e-01 6.45577875e-01]\n",
      " [1.90264183e-01 8.09735817e-01]\n",
      " [2.91048560e-01 7.08951440e-01]\n",
      " [1.94355672e-01 8.05644328e-01]\n",
      " [9.74479285e-01 2.55207148e-02]\n",
      " [3.05484515e-01 6.94515485e-01]\n",
      " [9.63765249e-01 3.62347509e-02]\n",
      " [3.22244076e-01 6.77755924e-01]\n",
      " [5.37069571e-01 4.62930429e-01]\n",
      " [4.38578155e-01 5.61421845e-01]\n",
      " [4.81932647e-01 5.18067353e-01]\n",
      " [5.17281467e-01 4.82718533e-01]\n",
      " [9.84155739e-01 1.58442612e-02]\n",
      " [7.03083157e-01 2.96916843e-01]\n",
      " [4.84016945e-01 5.15983055e-01]\n",
      " [3.39390405e-01 6.60609595e-01]\n",
      " [5.95428184e-01 4.04571816e-01]\n",
      " [7.86755478e-01 2.13244522e-01]\n",
      " [3.02886834e-01 6.97113166e-01]\n",
      " [5.84080735e-01 4.15919265e-01]\n",
      " [4.90165428e-01 5.09834572e-01]]\n"
     ]
    }
   ],
   "source": [
    "y_pred_prob = classifier.predict_proba(X_test)\n",
    "print(y_pred_prob)"
   ]
  },
  {
   "cell_type": "code",
   "execution_count": 240,
   "metadata": {},
   "outputs": [
    {
     "name": "stdout",
     "output_type": "stream",
     "text": [
      "[[72 58]\n",
      " [21 99]]\n",
      "Classification report:\n",
      "              precision    recall  f1-score   support\n",
      "\n",
      "         0.0       0.77      0.55      0.65       130\n",
      "         1.0       0.63      0.82      0.71       120\n",
      "\n",
      "    accuracy                           0.68       250\n",
      "   macro avg       0.70      0.69      0.68       250\n",
      "weighted avg       0.71      0.68      0.68       250\n",
      "\n",
      "Accracy of the model: 0.684\n"
     ]
    }
   ],
   "source": [
    "from sklearn.metrics import confusion_matrix,accuracy_score,classification_report\n",
    "cfm=confusion_matrix(Y_test,Y_pred)\n",
    "print(cfm)\n",
    "print(\"Classification report:\")\n",
    "print(classification_report(Y_test,Y_pred))#recall is accuracy score for individual class. class 0 is called as specificity or TNR, class 1 is called sensitivity or TPR\n",
    "acc=accuracy_score(Y_test,Y_pred)\n",
    "print(\"Accracy of the model:\",acc)"
   ]
  },
  {
   "cell_type": "markdown",
   "metadata": {},
   "source": [
    "# adjusting the threshold"
   ]
  },
  {
   "cell_type": "code",
   "execution_count": 241,
   "metadata": {},
   "outputs": [
    {
     "name": "stdout",
     "output_type": "stream",
     "text": [
      "Errors at threshold  0.4 : 77  , type 2 error : 5  , type 1 error: 72\n",
      "Errors at threshold  0.41000000000000003 : 77  , type 2 error : 6  , type 1 error: 71\n",
      "Errors at threshold  0.42000000000000004 : 77  , type 2 error : 7  , type 1 error: 70\n",
      "Errors at threshold  0.43000000000000005 : 78  , type 2 error : 9  , type 1 error: 69\n",
      "Errors at threshold  0.44000000000000006 : 77  , type 2 error : 9  , type 1 error: 68\n",
      "Errors at threshold  0.45000000000000007 : 77  , type 2 error : 10  , type 1 error: 67\n",
      "Errors at threshold  0.4600000000000001 : 81  , type 2 error : 15  , type 1 error: 66\n",
      "Errors at threshold  0.4700000000000001 : 81  , type 2 error : 16  , type 1 error: 65\n",
      "Errors at threshold  0.4800000000000001 : 82  , type 2 error : 17  , type 1 error: 65\n",
      "Errors at threshold  0.4900000000000001 : 80  , type 2 error : 18  , type 1 error: 62\n",
      "Errors at threshold  0.5000000000000001 : 79  , type 2 error : 21  , type 1 error: 58\n",
      "Errors at threshold  0.5100000000000001 : 81  , type 2 error : 25  , type 1 error: 56\n",
      "Errors at threshold  0.5200000000000001 : 78  , type 2 error : 27  , type 1 error: 51\n",
      "Errors at threshold  0.5300000000000001 : 79  , type 2 error : 29  , type 1 error: 50\n",
      "Errors at threshold  0.5400000000000001 : 79  , type 2 error : 30  , type 1 error: 49\n",
      "Errors at threshold  0.5500000000000002 : 79  , type 2 error : 31  , type 1 error: 48\n",
      "Errors at threshold  0.5600000000000002 : 78  , type 2 error : 33  , type 1 error: 45\n",
      "Errors at threshold  0.5700000000000002 : 81  , type 2 error : 37  , type 1 error: 44\n",
      "Errors at threshold  0.5800000000000002 : 84  , type 2 error : 41  , type 1 error: 43\n",
      "Errors at threshold  0.5900000000000002 : 91  , type 2 error : 49  , type 1 error: 42\n",
      "Errors at threshold  0.6000000000000002 : 92  , type 2 error : 52  , type 1 error: 40\n"
     ]
    }
   ],
   "source": [
    "for a in np.arange(0.4,0.61,0.01):\n",
    "    predict_mine = np.where(y_pred_prob[:,1] > a, 1, 0)\n",
    "    cfm=confusion_matrix(Y_test, predict_mine)\n",
    "    total_err=cfm[0,1]+cfm[1,0]\n",
    "    print(\"Errors at threshold \", a, \":\",total_err, \" , type 2 error :\",\n",
    "    cfm[1,0],\" , type 1 error:\", cfm[0,1])"
   ]
  },
  {
   "cell_type": "code",
   "execution_count": 242,
   "metadata": {},
   "outputs": [
    {
     "name": "stdout",
     "output_type": "stream",
     "text": [
      "[1, 0, 0, 1, 1, 0, 1, 1, 0, 0, 1, 1, 1, 0, 0, 1, 1, 1, 1, 0, 0, 1, 1, 0, 1, 0, 0, 1, 1, 0, 0, 1, 1, 0, 0, 0, 1, 1, 1, 1, 1, 0, 0, 0, 1, 1, 0, 0, 0, 0, 0, 0, 0, 1, 0, 0, 1, 0, 0, 1, 0, 0, 1, 1, 0, 0, 1, 1, 1, 0, 0, 1, 1, 1, 0, 1, 1, 1, 0, 1, 0, 0, 0, 0, 1, 1, 0, 1, 1, 1, 1, 1, 1, 1, 0, 0, 1, 0, 1, 1, 0, 0, 0, 0, 1, 0, 1, 1, 0, 1, 0, 0, 1, 1, 0, 0, 1, 0, 1, 1, 1, 1, 1, 0, 1, 0, 0, 1, 1, 1, 0, 1, 0, 1, 0, 1, 1, 0, 0, 0, 0, 1, 1, 0, 0, 0, 1, 1, 1, 1, 1, 1, 0, 1, 0, 0, 0, 1, 1, 1, 1, 1, 1, 0, 0, 0, 0, 1, 1, 0, 0, 1, 0, 1, 0, 0, 0, 1, 1, 1, 1, 0, 1, 1, 1, 0, 1, 1, 1, 0, 1, 1, 0, 1, 0, 0, 0, 1, 1, 0, 1, 1, 0, 0, 0, 0, 1, 1, 1, 0, 0, 1, 1, 1, 1, 1, 0, 1, 1, 1, 1, 0, 1, 1, 1, 1, 1, 1, 1, 1, 1, 1, 1, 0, 1, 0, 1, 0, 1, 0, 0, 0, 0, 0, 1, 0, 0, 1, 0, 0]\n"
     ]
    }
   ],
   "source": [
    "y_pred_class=[]\n",
    "for value in y_pred_prob[:,1]:\n",
    "    if value >0.55:\n",
    "        y_pred_class.append(1)\n",
    "    else:\n",
    "        y_pred_class.append(0)\n",
    "print(y_pred_class)"
   ]
  },
  {
   "cell_type": "code",
   "execution_count": 243,
   "metadata": {},
   "outputs": [
    {
     "name": "stdout",
     "output_type": "stream",
     "text": [
      "[[82 48]\n",
      " [31 89]]\n",
      "Classification report:\n",
      "              precision    recall  f1-score   support\n",
      "\n",
      "         0.0       0.73      0.63      0.67       130\n",
      "         1.0       0.65      0.74      0.69       120\n",
      "\n",
      "    accuracy                           0.68       250\n",
      "   macro avg       0.69      0.69      0.68       250\n",
      "weighted avg       0.69      0.68      0.68       250\n",
      "\n",
      "Accracy of the model: 0.684\n"
     ]
    }
   ],
   "source": [
    "from sklearn.metrics import confusion_matrix,accuracy_score,classification_report\n",
    "cfm=confusion_matrix(Y_test,y_pred_class)\n",
    "print(cfm)\n",
    "print(\"Classification report:\")\n",
    "print(classification_report(Y_test,y_pred_class))#recall is accuracy score for individual class. class 0 is called as specificity or TNR, class 1 is called sensitivity or TPR\n",
    "acc=accuracy_score(Y_test,y_pred_class)\n",
    "print(\"Accracy of the model:\",acc)"
   ]
  },
  {
   "cell_type": "markdown",
   "metadata": {},
   "source": [
    "# Decision Tree"
   ]
  },
  {
   "cell_type": "code",
   "execution_count": 244,
   "metadata": {},
   "outputs": [
    {
     "data": {
      "text/plain": [
       "DecisionTreeClassifier(class_weight=None, criterion='gini', max_depth=None,\n",
       "                       max_features=None, max_leaf_nodes=None,\n",
       "                       min_impurity_decrease=0.0, min_impurity_split=None,\n",
       "                       min_samples_leaf=1, min_samples_split=2,\n",
       "                       min_weight_fraction_leaf=0.0, presort=False,\n",
       "                       random_state=10, splitter='best')"
      ]
     },
     "execution_count": 244,
     "metadata": {},
     "output_type": "execute_result"
    }
   ],
   "source": [
    "from sklearn.tree import DecisionTreeClassifier\n",
    "model_DecisionTree=DecisionTreeClassifier(criterion=\"gini\",random_state=10)\n",
    "model_DecisionTree.fit(X_train,Y_train)"
   ]
  },
  {
   "cell_type": "code",
   "execution_count": 245,
   "metadata": {},
   "outputs": [
    {
     "name": "stdout",
     "output_type": "stream",
     "text": [
      "[(1.0, 1.0), (0.0, 0.0), (1.0, 1.0), (0.0, 1.0), (1.0, 1.0), (1.0, 1.0), (1.0, 0.0), (1.0, 1.0), (0.0, 0.0), (0.0, 0.0), (1.0, 1.0), (1.0, 1.0), (1.0, 1.0), (1.0, 1.0), (0.0, 0.0), (1.0, 0.0), (1.0, 1.0), (1.0, 0.0), (0.0, 0.0), (1.0, 1.0), (1.0, 1.0), (0.0, 0.0), (1.0, 0.0), (0.0, 0.0), (1.0, 1.0), (1.0, 1.0), (0.0, 0.0), (1.0, 1.0), (1.0, 1.0), (0.0, 0.0), (1.0, 1.0), (1.0, 1.0), (1.0, 1.0), (1.0, 1.0), (1.0, 1.0), (0.0, 0.0), (1.0, 0.0), (1.0, 1.0), (1.0, 1.0), (1.0, 0.0), (1.0, 1.0), (0.0, 0.0), (0.0, 0.0), (0.0, 0.0), (1.0, 1.0), (1.0, 0.0), (0.0, 0.0), (0.0, 0.0), (1.0, 1.0), (0.0, 0.0), (0.0, 0.0), (0.0, 0.0), (1.0, 1.0), (0.0, 1.0), (0.0, 0.0), (1.0, 1.0), (1.0, 1.0), (0.0, 0.0), (1.0, 0.0), (1.0, 1.0), (1.0, 0.0), (0.0, 0.0), (1.0, 1.0), (0.0, 0.0), (0.0, 1.0), (0.0, 0.0), (1.0, 0.0), (0.0, 0.0), (1.0, 0.0), (1.0, 1.0), (0.0, 0.0), (0.0, 1.0), (1.0, 1.0), (1.0, 1.0), (0.0, 0.0), (1.0, 1.0), (1.0, 1.0), (0.0, 0.0), (0.0, 0.0), (1.0, 0.0), (0.0, 0.0), (1.0, 0.0), (0.0, 0.0), (1.0, 0.0), (1.0, 1.0), (0.0, 0.0), (0.0, 0.0), (1.0, 0.0), (1.0, 0.0), (1.0, 1.0), (1.0, 0.0), (0.0, 0.0), (1.0, 1.0), (1.0, 0.0), (1.0, 0.0), (0.0, 0.0), (1.0, 1.0), (1.0, 1.0), (0.0, 1.0), (1.0, 1.0), (0.0, 0.0), (1.0, 0.0), (1.0, 1.0), (0.0, 0.0), (1.0, 0.0), (0.0, 0.0), (1.0, 1.0), (1.0, 1.0), (0.0, 0.0), (1.0, 1.0), (1.0, 1.0), (0.0, 0.0), (1.0, 1.0), (1.0, 1.0), (0.0, 0.0), (0.0, 0.0), (1.0, 1.0), (0.0, 0.0), (1.0, 1.0), (1.0, 1.0), (1.0, 0.0), (1.0, 1.0), (1.0, 1.0), (0.0, 1.0), (0.0, 1.0), (1.0, 1.0), (0.0, 0.0), (0.0, 1.0), (1.0, 1.0), (1.0, 1.0), (1.0, 1.0), (1.0, 0.0), (1.0, 1.0), (1.0, 1.0), (1.0, 1.0), (0.0, 0.0), (1.0, 1.0), (0.0, 0.0), (0.0, 0.0), (0.0, 0.0), (1.0, 0.0), (0.0, 0.0), (1.0, 1.0), (0.0, 0.0), (0.0, 0.0), (0.0, 0.0), (1.0, 1.0), (1.0, 1.0), (0.0, 0.0), (1.0, 1.0), (0.0, 0.0), (1.0, 1.0), (1.0, 0.0), (0.0, 0.0), (1.0, 1.0), (0.0, 0.0), (1.0, 0.0), (0.0, 0.0), (0.0, 1.0), (1.0, 1.0), (1.0, 1.0), (1.0, 1.0), (1.0, 1.0), (0.0, 0.0), (0.0, 0.0), (0.0, 0.0), (0.0, 0.0), (0.0, 0.0), (0.0, 0.0), (0.0, 1.0), (0.0, 0.0), (0.0, 0.0), (0.0, 0.0), (0.0, 0.0), (0.0, 0.0), (1.0, 0.0), (0.0, 0.0), (1.0, 0.0), (1.0, 1.0), (1.0, 1.0), (0.0, 0.0), (0.0, 0.0), (1.0, 1.0), (1.0, 1.0), (1.0, 0.0), (0.0, 0.0), (1.0, 1.0), (1.0, 0.0), (1.0, 0.0), (0.0, 0.0), (1.0, 1.0), (1.0, 1.0), (1.0, 1.0), (1.0, 1.0), (0.0, 0.0), (0.0, 0.0), (0.0, 0.0), (1.0, 1.0), (1.0, 0.0), (0.0, 0.0), (1.0, 0.0), (1.0, 1.0), (0.0, 0.0), (1.0, 1.0), (0.0, 0.0), (0.0, 0.0), (1.0, 1.0), (1.0, 1.0), (1.0, 1.0), (0.0, 1.0), (1.0, 0.0), (1.0, 1.0), (1.0, 0.0), (1.0, 1.0), (1.0, 1.0), (1.0, 1.0), (0.0, 0.0), (1.0, 0.0), (1.0, 0.0), (1.0, 1.0), (1.0, 1.0), (1.0, 1.0), (1.0, 1.0), (0.0, 0.0), (1.0, 1.0), (1.0, 1.0), (1.0, 1.0), (0.0, 0.0), (1.0, 1.0), (1.0, 1.0), (1.0, 1.0), (1.0, 0.0), (1.0, 1.0), (0.0, 0.0), (1.0, 1.0), (0.0, 0.0), (1.0, 1.0), (0.0, 0.0), (1.0, 1.0), (1.0, 0.0), (1.0, 0.0), (0.0, 0.0), (0.0, 0.0), (0.0, 0.0), (1.0, 1.0), (1.0, 1.0), (1.0, 1.0), (0.0, 0.0), (0.0, 0.0), (1.0, 1.0)]\n"
     ]
    }
   ],
   "source": [
    "Y_pred=model_DecisionTree.predict(X_test)\n",
    "print(list(zip(Y_pred,Y_test)))"
   ]
  },
  {
   "cell_type": "code",
   "execution_count": 246,
   "metadata": {},
   "outputs": [
    {
     "name": "stdout",
     "output_type": "stream",
     "text": [
      "[[ 90  40]\n",
      " [ 11 109]]\n",
      "Classification report:\n",
      "              precision    recall  f1-score   support\n",
      "\n",
      "         0.0       0.89      0.69      0.78       130\n",
      "         1.0       0.73      0.91      0.81       120\n",
      "\n",
      "    accuracy                           0.80       250\n",
      "   macro avg       0.81      0.80      0.79       250\n",
      "weighted avg       0.81      0.80      0.79       250\n",
      "\n",
      "Accracy of the model: 0.796\n"
     ]
    }
   ],
   "source": [
    "from sklearn.metrics import confusion_matrix,accuracy_score,classification_report\n",
    "cfm=confusion_matrix(Y_test,Y_pred)\n",
    "print(cfm)\n",
    "print(\"Classification report:\")\n",
    "print(classification_report(Y_test,Y_pred))#recall is accuracy score for individual class. class 0 is called as specificity or TNR, class 1 is called sensitivity or TPR\n",
    "acc=accuracy_score(Y_test,Y_pred)\n",
    "print(\"Accracy of the model:\",acc)"
   ]
  },
  {
   "cell_type": "markdown",
   "metadata": {},
   "source": [
    "# Pruning the decision Tree"
   ]
  },
  {
   "cell_type": "code",
   "execution_count": 247,
   "metadata": {},
   "outputs": [
    {
     "data": {
      "text/plain": [
       "DecisionTreeClassifier(class_weight=None, criterion='gini', max_depth=10,\n",
       "                       max_features=None, max_leaf_nodes=None,\n",
       "                       min_impurity_decrease=0.0, min_impurity_split=None,\n",
       "                       min_samples_leaf=5, min_samples_split=2,\n",
       "                       min_weight_fraction_leaf=0.0, presort=False,\n",
       "                       random_state=10, splitter='best')"
      ]
     },
     "execution_count": 247,
     "metadata": {},
     "output_type": "execute_result"
    }
   ],
   "source": [
    "from sklearn.tree import DecisionTreeClassifier\n",
    "model_DecisionTree=DecisionTreeClassifier(criterion=\"gini\",min_samples_leaf=5,max_depth=10,random_state=10)\n",
    "model_DecisionTree.fit(X_train,Y_train)"
   ]
  },
  {
   "cell_type": "code",
   "execution_count": 248,
   "metadata": {},
   "outputs": [
    {
     "name": "stdout",
     "output_type": "stream",
     "text": [
      "[(1.0, 1.0), (0.0, 0.0), (1.0, 1.0), (0.0, 1.0), (1.0, 1.0), (1.0, 1.0), (1.0, 0.0), (1.0, 1.0), (0.0, 0.0), (0.0, 0.0), (1.0, 1.0), (1.0, 1.0), (1.0, 1.0), (1.0, 1.0), (0.0, 0.0), (1.0, 0.0), (1.0, 1.0), (1.0, 0.0), (1.0, 0.0), (1.0, 1.0), (1.0, 1.0), (0.0, 0.0), (1.0, 0.0), (1.0, 0.0), (1.0, 1.0), (1.0, 1.0), (0.0, 0.0), (1.0, 1.0), (1.0, 1.0), (0.0, 0.0), (1.0, 1.0), (1.0, 1.0), (0.0, 1.0), (1.0, 1.0), (1.0, 1.0), (0.0, 0.0), (1.0, 0.0), (1.0, 1.0), (0.0, 1.0), (0.0, 0.0), (1.0, 1.0), (0.0, 0.0), (0.0, 0.0), (0.0, 0.0), (1.0, 1.0), (1.0, 0.0), (0.0, 0.0), (0.0, 0.0), (1.0, 1.0), (1.0, 0.0), (0.0, 0.0), (0.0, 0.0), (0.0, 1.0), (1.0, 1.0), (0.0, 0.0), (1.0, 1.0), (1.0, 1.0), (0.0, 0.0), (0.0, 0.0), (1.0, 1.0), (1.0, 0.0), (0.0, 0.0), (1.0, 1.0), (0.0, 0.0), (0.0, 1.0), (0.0, 0.0), (1.0, 0.0), (0.0, 0.0), (1.0, 0.0), (1.0, 1.0), (0.0, 0.0), (0.0, 1.0), (1.0, 1.0), (1.0, 1.0), (0.0, 0.0), (0.0, 1.0), (1.0, 1.0), (1.0, 0.0), (1.0, 0.0), (1.0, 0.0), (0.0, 0.0), (0.0, 0.0), (0.0, 0.0), (1.0, 0.0), (1.0, 1.0), (0.0, 0.0), (0.0, 0.0), (1.0, 0.0), (0.0, 0.0), (1.0, 1.0), (1.0, 0.0), (0.0, 0.0), (1.0, 1.0), (1.0, 0.0), (0.0, 0.0), (0.0, 0.0), (1.0, 1.0), (1.0, 1.0), (0.0, 1.0), (1.0, 1.0), (0.0, 0.0), (0.0, 0.0), (1.0, 1.0), (0.0, 0.0), (1.0, 0.0), (0.0, 0.0), (1.0, 1.0), (1.0, 1.0), (0.0, 0.0), (0.0, 1.0), (1.0, 1.0), (0.0, 0.0), (1.0, 1.0), (1.0, 1.0), (0.0, 0.0), (0.0, 0.0), (0.0, 1.0), (0.0, 0.0), (1.0, 1.0), (1.0, 1.0), (0.0, 0.0), (1.0, 1.0), (1.0, 1.0), (1.0, 1.0), (0.0, 1.0), (1.0, 1.0), (0.0, 0.0), (0.0, 1.0), (1.0, 1.0), (1.0, 1.0), (1.0, 1.0), (1.0, 0.0), (1.0, 1.0), (0.0, 1.0), (0.0, 1.0), (0.0, 0.0), (1.0, 1.0), (0.0, 0.0), (0.0, 0.0), (0.0, 0.0), (1.0, 0.0), (1.0, 0.0), (1.0, 1.0), (0.0, 0.0), (1.0, 0.0), (0.0, 0.0), (1.0, 1.0), (1.0, 1.0), (0.0, 0.0), (1.0, 1.0), (1.0, 0.0), (1.0, 1.0), (0.0, 0.0), (1.0, 0.0), (1.0, 1.0), (0.0, 0.0), (1.0, 0.0), (0.0, 0.0), (0.0, 1.0), (1.0, 1.0), (1.0, 1.0), (1.0, 1.0), (1.0, 1.0), (0.0, 0.0), (0.0, 0.0), (0.0, 0.0), (0.0, 0.0), (0.0, 0.0), (1.0, 0.0), (0.0, 1.0), (0.0, 0.0), (0.0, 0.0), (0.0, 0.0), (0.0, 0.0), (1.0, 0.0), (0.0, 0.0), (0.0, 0.0), (1.0, 0.0), (1.0, 1.0), (1.0, 1.0), (0.0, 0.0), (0.0, 0.0), (1.0, 1.0), (1.0, 1.0), (1.0, 0.0), (1.0, 0.0), (1.0, 1.0), (1.0, 0.0), (1.0, 0.0), (0.0, 0.0), (0.0, 1.0), (1.0, 1.0), (1.0, 1.0), (1.0, 1.0), (0.0, 0.0), (0.0, 0.0), (0.0, 0.0), (1.0, 1.0), (1.0, 0.0), (0.0, 0.0), (1.0, 0.0), (1.0, 1.0), (0.0, 0.0), (0.0, 1.0), (0.0, 0.0), (0.0, 0.0), (1.0, 1.0), (1.0, 1.0), (1.0, 1.0), (0.0, 1.0), (0.0, 0.0), (1.0, 1.0), (1.0, 0.0), (1.0, 1.0), (1.0, 1.0), (1.0, 1.0), (0.0, 0.0), (1.0, 0.0), (1.0, 0.0), (1.0, 1.0), (1.0, 1.0), (1.0, 1.0), (1.0, 1.0), (0.0, 0.0), (1.0, 1.0), (1.0, 1.0), (1.0, 1.0), (1.0, 0.0), (1.0, 1.0), (0.0, 1.0), (1.0, 1.0), (1.0, 0.0), (1.0, 1.0), (0.0, 0.0), (1.0, 1.0), (0.0, 0.0), (1.0, 1.0), (0.0, 0.0), (1.0, 1.0), (1.0, 0.0), (1.0, 0.0), (0.0, 0.0), (0.0, 0.0), (0.0, 0.0), (1.0, 1.0), (1.0, 1.0), (1.0, 1.0), (0.0, 0.0), (0.0, 0.0), (0.0, 1.0)]\n"
     ]
    }
   ],
   "source": [
    "Y_pred=model_DecisionTree.predict(X_test)\n",
    "print(list(zip(Y_pred,Y_test)))"
   ]
  },
  {
   "cell_type": "code",
   "execution_count": 249,
   "metadata": {},
   "outputs": [
    {
     "name": "stdout",
     "output_type": "stream",
     "text": [
      "[[87 43]\n",
      " [21 99]]\n",
      "Classification report:\n",
      "              precision    recall  f1-score   support\n",
      "\n",
      "         0.0       0.81      0.67      0.73       130\n",
      "         1.0       0.70      0.82      0.76       120\n",
      "\n",
      "    accuracy                           0.74       250\n",
      "   macro avg       0.75      0.75      0.74       250\n",
      "weighted avg       0.75      0.74      0.74       250\n",
      "\n",
      "Accracy of the model: 0.744\n"
     ]
    }
   ],
   "source": [
    "from sklearn.metrics import confusion_matrix,accuracy_score,classification_report\n",
    "cfm=confusion_matrix(Y_test,Y_pred)\n",
    "print(cfm)\n",
    "print(\"Classification report:\")\n",
    "print(classification_report(Y_test,Y_pred))#recall is accuracy score for individual class. class 0 is called as specificity or TNR, class 1 is called sensitivity or TPR\n",
    "acc=accuracy_score(Y_test,Y_pred)\n",
    "print(\"Accracy of the model:\",acc)"
   ]
  },
  {
   "cell_type": "markdown",
   "metadata": {},
   "source": [
    "# Neural Network"
   ]
  },
  {
   "cell_type": "code",
   "execution_count": 250,
   "metadata": {},
   "outputs": [
    {
     "name": "stdout",
     "output_type": "stream",
     "text": [
      "[(1.0, 1.0), (0.0, 0.0), (1.0, 1.0), (1.0, 1.0), (1.0, 0.0), (1.0, 1.0), (0.0, 1.0), (1.0, 1.0), (0.0, 0.0), (0.0, 0.0), (1.0, 1.0), (1.0, 0.0), (1.0, 1.0), (1.0, 0.0), (0.0, 0.0), (0.0, 1.0), (1.0, 1.0), (0.0, 1.0), (0.0, 1.0), (1.0, 0.0), (1.0, 0.0), (0.0, 1.0), (0.0, 1.0), (0.0, 1.0), (1.0, 1.0), (1.0, 0.0), (0.0, 0.0), (1.0, 1.0), (1.0, 0.0), (0.0, 0.0), (1.0, 1.0), (1.0, 1.0), (1.0, 1.0), (1.0, 1.0), (1.0, 1.0), (0.0, 0.0), (0.0, 0.0), (1.0, 1.0), (1.0, 1.0), (0.0, 1.0), (1.0, 0.0), (0.0, 1.0), (0.0, 0.0), (0.0, 0.0), (1.0, 1.0), (0.0, 1.0), (0.0, 0.0), (0.0, 1.0), (1.0, 1.0), (0.0, 0.0), (0.0, 0.0), (0.0, 0.0), (1.0, 0.0), (1.0, 0.0), (0.0, 1.0), (1.0, 1.0), (1.0, 1.0), (0.0, 0.0), (0.0, 0.0), (1.0, 1.0), (0.0, 0.0), (0.0, 0.0), (1.0, 1.0), (0.0, 1.0), (1.0, 1.0), (0.0, 0.0), (0.0, 0.0), (0.0, 0.0), (0.0, 1.0), (1.0, 1.0), (0.0, 0.0), (1.0, 1.0), (1.0, 1.0), (1.0, 1.0), (0.0, 0.0), (1.0, 1.0), (1.0, 0.0), (0.0, 1.0), (0.0, 0.0), (0.0, 0.0), (0.0, 0.0), (0.0, 1.0), (0.0, 1.0), (0.0, 0.0), (1.0, 1.0), (0.0, 1.0), (0.0, 1.0), (0.0, 1.0), (0.0, 0.0), (1.0, 1.0), (0.0, 1.0), (0.0, 1.0), (1.0, 0.0), (0.0, 0.0), (0.0, 1.0), (0.0, 1.0), (1.0, 0.0), (1.0, 1.0), (1.0, 1.0), (1.0, 1.0), (0.0, 0.0), (0.0, 1.0), (1.0, 1.0), (0.0, 0.0), (0.0, 1.0), (0.0, 1.0), (1.0, 1.0), (1.0, 0.0), (0.0, 0.0), (1.0, 1.0), (1.0, 1.0), (0.0, 0.0), (1.0, 1.0), (1.0, 1.0), (0.0, 0.0), (0.0, 0.0), (1.0, 1.0), (0.0, 0.0), (1.0, 0.0), (1.0, 0.0), (0.0, 1.0), (1.0, 1.0), (1.0, 1.0), (1.0, 1.0), (1.0, 1.0), (1.0, 1.0), (0.0, 0.0), (1.0, 1.0), (1.0, 1.0), (1.0, 1.0), (1.0, 1.0), (0.0, 0.0), (1.0, 1.0), (1.0, 1.0), (1.0, 1.0), (0.0, 0.0), (1.0, 1.0), (0.0, 1.0), (0.0, 0.0), (0.0, 1.0), (0.0, 1.0), (0.0, 1.0), (1.0, 1.0), (0.0, 0.0), (0.0, 0.0), (0.0, 0.0), (1.0, 1.0), (1.0, 1.0), (0.0, 1.0), (1.0, 1.0), (0.0, 0.0), (1.0, 1.0), (0.0, 0.0), (0.0, 0.0), (1.0, 1.0), (0.0, 0.0), (0.0, 1.0), (0.0, 1.0), (1.0, 1.0), (1.0, 1.0), (1.0, 1.0), (1.0, 1.0), (1.0, 1.0), (0.0, 1.0), (0.0, 0.0), (0.0, 0.0), (0.0, 0.0), (0.0, 1.0), (0.0, 1.0), (1.0, 0.0), (0.0, 1.0), (0.0, 0.0), (0.0, 0.0), (0.0, 1.0), (0.0, 0.0), (0.0, 1.0), (0.0, 0.0), (0.0, 1.0), (1.0, 1.0), (1.0, 1.0), (0.0, 1.0), (0.0, 0.0), (1.0, 0.0), (1.0, 0.0), (0.0, 1.0), (0.0, 0.0), (1.0, 1.0), (0.0, 1.0), (0.0, 0.0), (0.0, 0.0), (1.0, 1.0), (1.0, 1.0), (1.0, 1.0), (1.0, 1.0), (0.0, 0.0), (0.0, 1.0), (0.0, 0.0), (1.0, 0.0), (0.0, 0.0), (0.0, 0.0), (0.0, 1.0), (1.0, 1.0), (0.0, 0.0), (1.0, 1.0), (0.0, 0.0), (0.0, 0.0), (1.0, 1.0), (1.0, 1.0), (1.0, 1.0), (1.0, 0.0), (0.0, 0.0), (1.0, 1.0), (0.0, 1.0), (1.0, 1.0), (1.0, 0.0), (1.0, 1.0), (0.0, 0.0), (0.0, 1.0), (0.0, 1.0), (1.0, 1.0), (1.0, 1.0), (1.0, 0.0), (1.0, 0.0), (0.0, 1.0), (1.0, 0.0), (1.0, 0.0), (1.0, 1.0), (0.0, 0.0), (1.0, 1.0), (1.0, 1.0), (1.0, 0.0), (0.0, 0.0), (1.0, 1.0), (0.0, 0.0), (1.0, 0.0), (0.0, 0.0), (1.0, 1.0), (0.0, 1.0), (1.0, 1.0), (0.0, 0.0), (0.0, 1.0), (0.0, 0.0), (0.0, 0.0), (0.0, 1.0), (1.0, 1.0), (1.0, 1.0), (1.0, 0.0), (0.0, 1.0), (0.0, 0.0), (1.0, 1.0)]\n"
     ]
    }
   ],
   "source": [
    "from sklearn.neural_network import MLPClassifier\n",
    "mlp=MLPClassifier(hidden_layer_sizes=(12,12,12),max_iter=100,early_stopping=True,random_state=10,activation=\"relu\")\n",
    "mlp.fit(X_train,Y_train)\n",
    "Y_pred=mlp.predict(X_test)\n",
    "print(list(zip(Y_test,Y_pred)))"
   ]
  },
  {
   "cell_type": "code",
   "execution_count": 251,
   "metadata": {},
   "outputs": [
    {
     "name": "stdout",
     "output_type": "stream",
     "text": [
      "[[75 55]\n",
      " [29 91]]\n",
      "Classification report:\n",
      "              precision    recall  f1-score   support\n",
      "\n",
      "         0.0       0.72      0.58      0.64       130\n",
      "         1.0       0.62      0.76      0.68       120\n",
      "\n",
      "    accuracy                           0.66       250\n",
      "   macro avg       0.67      0.67      0.66       250\n",
      "weighted avg       0.67      0.66      0.66       250\n",
      "\n",
      "Accracy of the model: 0.664\n"
     ]
    }
   ],
   "source": [
    "from sklearn.metrics import confusion_matrix,accuracy_score,classification_report\n",
    "cfm=confusion_matrix(Y_test,Y_pred)\n",
    "print(cfm)\n",
    "print(\"Classification report:\")\n",
    "print(classification_report(Y_test,Y_pred))#recall is accuracy score for individual class. class 0 is called as specificity or TNR, class 1 is called sensitivity or TPR\n",
    "acc=accuracy_score(Y_test,Y_pred)#unneccessary dont prune the model on gud model coz if u do it would affect worse\n",
    "print(\"Accracy of the model:\",acc)"
   ]
  },
  {
   "cell_type": "markdown",
   "metadata": {},
   "source": [
    "# KNN "
   ]
  },
  {
   "cell_type": "code",
   "execution_count": 252,
   "metadata": {},
   "outputs": [
    {
     "name": "stdout",
     "output_type": "stream",
     "text": [
      "[(1.0, 1.0), (0.0, 0.0), (1.0, 1.0), (1.0, 1.0), (1.0, 1.0), (1.0, 0.0), (0.0, 1.0), (1.0, 1.0), (0.0, 0.0), (0.0, 0.0), (1.0, 1.0), (1.0, 1.0), (1.0, 1.0), (1.0, 1.0), (0.0, 0.0), (0.0, 1.0), (1.0, 1.0), (0.0, 1.0), (0.0, 1.0), (1.0, 0.0), (1.0, 0.0), (0.0, 1.0), (0.0, 1.0), (0.0, 1.0), (1.0, 1.0), (1.0, 0.0), (0.0, 0.0), (1.0, 1.0), (1.0, 1.0), (0.0, 1.0), (1.0, 1.0), (1.0, 1.0), (1.0, 1.0), (1.0, 1.0), (1.0, 1.0), (0.0, 1.0), (0.0, 1.0), (1.0, 1.0), (1.0, 1.0), (0.0, 1.0), (1.0, 0.0), (0.0, 0.0), (0.0, 0.0), (0.0, 0.0), (1.0, 1.0), (0.0, 1.0), (0.0, 1.0), (0.0, 1.0), (1.0, 1.0), (0.0, 1.0), (0.0, 0.0), (0.0, 0.0), (1.0, 1.0), (1.0, 1.0), (0.0, 1.0), (1.0, 1.0), (1.0, 1.0), (0.0, 0.0), (0.0, 1.0), (1.0, 1.0), (0.0, 1.0), (0.0, 0.0), (1.0, 1.0), (0.0, 1.0), (1.0, 1.0), (0.0, 1.0), (0.0, 1.0), (0.0, 1.0), (0.0, 1.0), (1.0, 1.0), (0.0, 0.0), (1.0, 1.0), (1.0, 1.0), (1.0, 1.0), (0.0, 0.0), (1.0, 1.0), (1.0, 1.0), (0.0, 1.0), (0.0, 1.0), (0.0, 0.0), (0.0, 0.0), (0.0, 1.0), (0.0, 0.0), (0.0, 0.0), (1.0, 1.0), (0.0, 0.0), (0.0, 1.0), (0.0, 1.0), (0.0, 1.0), (1.0, 1.0), (0.0, 1.0), (0.0, 1.0), (1.0, 1.0), (0.0, 1.0), (0.0, 1.0), (0.0, 1.0), (1.0, 1.0), (1.0, 1.0), (1.0, 1.0), (1.0, 1.0), (0.0, 0.0), (0.0, 1.0), (1.0, 1.0), (0.0, 0.0), (0.0, 1.0), (0.0, 0.0), (1.0, 1.0), (1.0, 1.0), (0.0, 0.0), (1.0, 1.0), (1.0, 1.0), (0.0, 0.0), (1.0, 1.0), (1.0, 1.0), (0.0, 1.0), (0.0, 0.0), (1.0, 1.0), (0.0, 0.0), (1.0, 1.0), (1.0, 1.0), (0.0, 1.0), (1.0, 1.0), (1.0, 1.0), (1.0, 1.0), (1.0, 1.0), (1.0, 1.0), (0.0, 0.0), (1.0, 0.0), (1.0, 1.0), (1.0, 1.0), (1.0, 1.0), (0.0, 1.0), (1.0, 1.0), (1.0, 1.0), (1.0, 1.0), (0.0, 1.0), (1.0, 1.0), (0.0, 0.0), (0.0, 0.0), (0.0, 0.0), (0.0, 1.0), (0.0, 1.0), (1.0, 1.0), (0.0, 0.0), (0.0, 0.0), (0.0, 0.0), (1.0, 1.0), (1.0, 1.0), (0.0, 1.0), (1.0, 1.0), (0.0, 1.0), (1.0, 1.0), (0.0, 0.0), (0.0, 1.0), (1.0, 1.0), (0.0, 0.0), (0.0, 1.0), (0.0, 1.0), (1.0, 1.0), (1.0, 1.0), (1.0, 1.0), (1.0, 1.0), (1.0, 1.0), (0.0, 0.0), (0.0, 0.0), (0.0, 0.0), (0.0, 0.0), (0.0, 1.0), (0.0, 1.0), (1.0, 1.0), (0.0, 0.0), (0.0, 1.0), (0.0, 0.0), (0.0, 1.0), (0.0, 0.0), (0.0, 1.0), (0.0, 0.0), (0.0, 1.0), (1.0, 1.0), (1.0, 1.0), (0.0, 0.0), (0.0, 0.0), (1.0, 1.0), (1.0, 1.0), (0.0, 1.0), (0.0, 0.0), (1.0, 1.0), (0.0, 1.0), (0.0, 1.0), (0.0, 0.0), (1.0, 1.0), (1.0, 1.0), (1.0, 1.0), (1.0, 1.0), (0.0, 0.0), (0.0, 0.0), (0.0, 1.0), (1.0, 1.0), (0.0, 1.0), (0.0, 0.0), (0.0, 1.0), (1.0, 1.0), (0.0, 0.0), (1.0, 1.0), (0.0, 0.0), (0.0, 0.0), (1.0, 1.0), (1.0, 1.0), (1.0, 1.0), (1.0, 1.0), (0.0, 0.0), (1.0, 1.0), (0.0, 1.0), (1.0, 1.0), (1.0, 0.0), (1.0, 1.0), (0.0, 0.0), (0.0, 1.0), (0.0, 1.0), (1.0, 1.0), (1.0, 1.0), (1.0, 0.0), (1.0, 1.0), (0.0, 1.0), (1.0, 1.0), (1.0, 1.0), (1.0, 1.0), (0.0, 1.0), (1.0, 1.0), (1.0, 1.0), (1.0, 1.0), (0.0, 1.0), (1.0, 1.0), (0.0, 0.0), (1.0, 1.0), (0.0, 0.0), (1.0, 1.0), (0.0, 1.0), (1.0, 0.0), (0.0, 0.0), (0.0, 1.0), (0.0, 0.0), (0.0, 0.0), (0.0, 1.0), (1.0, 1.0), (1.0, 0.0), (1.0, 0.0), (0.0, 1.0), (0.0, 0.0), (1.0, 1.0)]\n"
     ]
    }
   ],
   "source": [
    "import numpy as np\n",
    "#n_neighbors is passed to give the value of the K.\n",
    "#k value is passed as the sqrt of the number of observation\n",
    "from sklearn.neighbors import KNeighborsClassifier\n",
    "model_KNN=KNeighborsClassifier(n_neighbors=int(round(np.sqrt(len(X_train)),0)),metric='manhattan')\n",
    "#fit the model on the data and predict the values\n",
    "model_KNN.fit(X_train,Y_train)\n",
    "Y_pred=model_KNN.predict(X_test)\n",
    "print(list(zip(Y_test,Y_pred)))"
   ]
  },
  {
   "cell_type": "code",
   "execution_count": 253,
   "metadata": {},
   "outputs": [
    {
     "name": "stdout",
     "output_type": "stream",
     "text": [
      "[[ 61  69]\n",
      " [ 11 109]]\n",
      "Classification report:\n",
      "              precision    recall  f1-score   support\n",
      "\n",
      "         0.0       0.85      0.47      0.60       130\n",
      "         1.0       0.61      0.91      0.73       120\n",
      "\n",
      "    accuracy                           0.68       250\n",
      "   macro avg       0.73      0.69      0.67       250\n",
      "weighted avg       0.73      0.68      0.67       250\n",
      "\n",
      "Accracy of the model: 0.68\n"
     ]
    }
   ],
   "source": [
    "from sklearn.metrics import confusion_matrix,accuracy_score,classification_report\n",
    "cfm=confusion_matrix(Y_test,Y_pred)\n",
    "print(cfm)\n",
    "print(\"Classification report:\")\n",
    "print(classification_report(Y_test,Y_pred))#recall is accuracy score for individual class. class 0 is called as specificity or TNR, class 1 is called sensitivity or TPR\n",
    "acc=accuracy_score(Y_test,Y_pred)#unneccessary dont prune the model on gud model coz if u do it would affect worse\n",
    "print(\"Accracy of the model:\",acc)"
   ]
  },
  {
   "cell_type": "code",
   "execution_count": 254,
   "metadata": {},
   "outputs": [
    {
     "name": "stdout",
     "output_type": "stream",
     "text": [
      "Accuracy is  0.824 for K-Value: 1\n",
      "Accuracy is  0.76 for K-Value: 2\n",
      "Accuracy is  0.704 for K-Value: 3\n",
      "Accuracy is  0.7 for K-Value: 4\n",
      "Accuracy is  0.704 for K-Value: 5\n",
      "Accuracy is  0.7 for K-Value: 6\n",
      "Accuracy is  0.692 for K-Value: 7\n",
      "Accuracy is  0.696 for K-Value: 8\n",
      "Accuracy is  0.696 for K-Value: 9\n",
      "Accuracy is  0.68 for K-Value: 10\n",
      "Accuracy is  0.7 for K-Value: 11\n",
      "Accuracy is  0.696 for K-Value: 12\n",
      "Accuracy is  0.724 for K-Value: 13\n",
      "Accuracy is  0.704 for K-Value: 14\n",
      "Accuracy is  0.688 for K-Value: 15\n",
      "Accuracy is  0.68 for K-Value: 16\n",
      "Accuracy is  0.684 for K-Value: 17\n",
      "Accuracy is  0.68 for K-Value: 18\n",
      "Accuracy is  0.68 for K-Value: 19\n",
      "Accuracy is  0.684 for K-Value: 20\n",
      "Accuracy is  0.68 for K-Value: 21\n",
      "Accuracy is  0.684 for K-Value: 22\n",
      "Accuracy is  0.688 for K-Value: 23\n",
      "Accuracy is  0.68 for K-Value: 24\n",
      "Accuracy is  0.704 for K-Value: 25\n",
      "Accuracy is  0.708 for K-Value: 26\n",
      "Accuracy is  0.708 for K-Value: 27\n",
      "Accuracy is  0.696 for K-Value: 28\n",
      "Accuracy is  0.672 for K-Value: 29\n",
      "Accuracy is  0.684 for K-Value: 30\n",
      "Accuracy is  0.672 for K-Value: 31\n",
      "Accuracy is  0.664 for K-Value: 32\n",
      "Accuracy is  0.66 for K-Value: 33\n",
      "Accuracy is  0.664 for K-Value: 34\n",
      "Accuracy is  0.664 for K-Value: 35\n",
      "Accuracy is  0.668 for K-Value: 36\n",
      "Accuracy is  0.664 for K-Value: 37\n",
      "Accuracy is  0.668 for K-Value: 38\n",
      "Accuracy is  0.672 for K-Value: 39\n",
      "Accuracy is  0.676 for K-Value: 40\n",
      "Accuracy is  0.676 for K-Value: 41\n",
      "Accuracy is  0.664 for K-Value: 42\n",
      "Accuracy is  0.676 for K-Value: 43\n",
      "Accuracy is  0.672 for K-Value: 44\n",
      "Accuracy is  0.668 for K-Value: 45\n",
      "Accuracy is  0.668 for K-Value: 46\n",
      "Accuracy is  0.676 for K-Value: 47\n",
      "Accuracy is  0.688 for K-Value: 48\n",
      "Accuracy is  0.692 for K-Value: 49\n"
     ]
    }
   ],
   "source": [
    "from sklearn.metrics import accuracy_score\n",
    "\n",
    "for K in range(1,50):\n",
    "    model_KNN = KNeighborsClassifier(K,metric=\"euclidean\")\n",
    "    model_KNN.fit(X_train, Y_train)\n",
    "    Y_pred = model_KNN.predict(X_test)\n",
    "    print (\"Accuracy is \", accuracy_score(Y_test,Y_pred), \"for K-Value:\",K)"
   ]
  },
  {
   "cell_type": "markdown",
   "metadata": {},
   "source": [
    "# SVM"
   ]
  },
  {
   "cell_type": "code",
   "execution_count": 255,
   "metadata": {},
   "outputs": [
    {
     "name": "stdout",
     "output_type": "stream",
     "text": [
      "[1.0, 0.0, 1.0, 1.0, 1.0, 1.0, 1.0, 1.0, 0.0, 0.0, 1.0, 0.0, 1.0, 1.0, 0.0, 1.0, 1.0, 1.0, 1.0, 0.0, 1.0, 1.0, 1.0, 1.0, 1.0, 0.0, 0.0, 1.0, 1.0, 1.0, 1.0, 1.0, 1.0, 1.0, 0.0, 1.0, 1.0, 1.0, 1.0, 1.0, 1.0, 1.0, 0.0, 0.0, 1.0, 1.0, 0.0, 1.0, 1.0, 1.0, 0.0, 0.0, 0.0, 1.0, 0.0, 1.0, 1.0, 0.0, 0.0, 1.0, 0.0, 0.0, 1.0, 1.0, 0.0, 0.0, 1.0, 1.0, 1.0, 1.0, 0.0, 1.0, 1.0, 1.0, 0.0, 1.0, 0.0, 1.0, 0.0, 1.0, 0.0, 1.0, 1.0, 0.0, 1.0, 1.0, 1.0, 1.0, 1.0, 1.0, 1.0, 1.0, 0.0, 1.0, 0.0, 1.0, 1.0, 1.0, 1.0, 1.0, 0.0, 0.0, 1.0, 0.0, 1.0, 0.0, 1.0, 0.0, 0.0, 1.0, 1.0, 0.0, 1.0, 1.0, 0.0, 0.0, 1.0, 0.0, 1.0, 1.0, 1.0, 1.0, 1.0, 1.0, 1.0, 1.0, 0.0, 1.0, 1.0, 1.0, 1.0, 1.0, 1.0, 1.0, 1.0, 1.0, 1.0, 0.0, 0.0, 0.0, 1.0, 1.0, 1.0, 0.0, 0.0, 0.0, 1.0, 1.0, 1.0, 1.0, 1.0, 1.0, 0.0, 1.0, 1.0, 0.0, 0.0, 1.0, 1.0, 1.0, 1.0, 1.0, 1.0, 0.0, 0.0, 0.0, 0.0, 1.0, 1.0, 0.0, 0.0, 1.0, 0.0, 1.0, 0.0, 1.0, 0.0, 1.0, 1.0, 1.0, 0.0, 0.0, 1.0, 1.0, 1.0, 0.0, 1.0, 1.0, 1.0, 0.0, 1.0, 1.0, 1.0, 1.0, 0.0, 0.0, 0.0, 1.0, 1.0, 0.0, 1.0, 1.0, 0.0, 0.0, 0.0, 0.0, 1.0, 1.0, 1.0, 0.0, 0.0, 1.0, 1.0, 1.0, 1.0, 1.0, 0.0, 1.0, 1.0, 1.0, 1.0, 0.0, 0.0, 1.0, 1.0, 1.0, 1.0, 1.0, 1.0, 1.0, 1.0, 1.0, 1.0, 0.0, 1.0, 0.0, 1.0, 0.0, 1.0, 0.0, 0.0, 0.0, 0.0, 1.0, 1.0, 0.0, 0.0, 1.0, 0.0, 0.0]\n"
     ]
    }
   ],
   "source": [
    "from sklearn import svm\n",
    "svc_model=svm.SVC(kernel='rbf',C=1,gamma=0.1)\n",
    "svc_model.fit(X_train, Y_train)\n",
    "Y_pred=svc_model.predict(X_test)\n",
    "print(list(Y_pred))"
   ]
  },
  {
   "cell_type": "code",
   "execution_count": 256,
   "metadata": {},
   "outputs": [
    {
     "name": "stdout",
     "output_type": "stream",
     "text": [
      "[[ 70  60]\n",
      " [ 17 103]]\n",
      "Classification report:\n",
      "              precision    recall  f1-score   support\n",
      "\n",
      "         0.0       0.80      0.54      0.65       130\n",
      "         1.0       0.63      0.86      0.73       120\n",
      "\n",
      "    accuracy                           0.69       250\n",
      "   macro avg       0.72      0.70      0.69       250\n",
      "weighted avg       0.72      0.69      0.68       250\n",
      "\n",
      "Accracy of the model: 0.692\n"
     ]
    }
   ],
   "source": [
    "from sklearn.metrics import confusion_matrix,accuracy_score,classification_report\n",
    "cfm=confusion_matrix(Y_test,Y_pred)\n",
    "print(cfm)\n",
    "print(\"Classification report:\")\n",
    "print(classification_report(Y_test,Y_pred))#recall is accuracy score for individual class. class 0 is called as specificity or TNR, class 1 is called sensitivity or TPR\n",
    "acc=accuracy_score(Y_test,Y_pred)#unneccessary dont prune the model on gud model coz if u do it would affect worse\n",
    "print(\"Accracy of the model:\",acc)"
   ]
  },
  {
   "cell_type": "markdown",
   "metadata": {},
   "source": [
    "# Extra Tree Classifier"
   ]
  },
  {
   "cell_type": "code",
   "execution_count": 257,
   "metadata": {},
   "outputs": [],
   "source": [
    "from sklearn.ensemble import ExtraTreesClassifier\n",
    "\n",
    "model=ExtraTreesClassifier(30,random_state=10)\n",
    "#fit the model on the data and predict the values\n",
    "model=model.fit(X_train,Y_train)\n",
    "\n",
    "Y_pred=model.predict(X_test)"
   ]
  },
  {
   "cell_type": "code",
   "execution_count": 258,
   "metadata": {},
   "outputs": [
    {
     "name": "stdout",
     "output_type": "stream",
     "text": [
      "[[116  14]\n",
      " [  9 111]]\n",
      "\n",
      "0.908\n",
      "\n",
      "              precision    recall  f1-score   support\n",
      "\n",
      "         0.0       0.93      0.89      0.91       130\n",
      "         1.0       0.89      0.93      0.91       120\n",
      "\n",
      "    accuracy                           0.91       250\n",
      "   macro avg       0.91      0.91      0.91       250\n",
      "weighted avg       0.91      0.91      0.91       250\n",
      "\n"
     ]
    }
   ],
   "source": [
    "from sklearn.metrics import confusion_matrix,accuracy_score,classification_report\n",
    "print(confusion_matrix(Y_test,Y_pred))\n",
    "print()\n",
    "print(accuracy_score(Y_test,Y_pred))\n",
    "print()\n",
    "print(classification_report(Y_test,Y_pred))"
   ]
  },
  {
   "cell_type": "code",
   "execution_count": null,
   "metadata": {},
   "outputs": [],
   "source": []
  }
 ],
 "metadata": {
  "kernelspec": {
   "display_name": "Python 3",
   "language": "python",
   "name": "python3"
  },
  "language_info": {
   "codemirror_mode": {
    "name": "ipython",
    "version": 3
   },
   "file_extension": ".py",
   "mimetype": "text/x-python",
   "name": "python",
   "nbconvert_exporter": "python",
   "pygments_lexer": "ipython3",
   "version": "3.7.4"
  }
 },
 "nbformat": 4,
 "nbformat_minor": 2
}
